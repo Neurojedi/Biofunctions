{
 "cells": [
  {
   "cell_type": "markdown",
   "id": "4170ed0e",
   "metadata": {},
   "source": [
    "## MahattanTourist"
   ]
  },
  {
   "cell_type": "markdown",
   "id": "b8e0b1ba",
   "metadata": {},
   "source": [
    "**Input:** Integers n and m, followed by an n × (m + 1) matrix Down and an (n + 1) × m matrix Right. The two matrices are separated by the \"-\" symbol.\n",
    "\n",
    "**Output:** The length of a longest path from source (0, 0) to sink (n, m) in the rectangular grid whose edges are defined by the matrices Down and Right."
   ]
  },
  {
   "cell_type": "code",
   "execution_count": 1,
   "id": "17f99f47",
   "metadata": {},
   "outputs": [],
   "source": [
    "from biofunctions.alignment.MahattanTourist import MahattanTourist"
   ]
  },
  {
   "cell_type": "code",
   "execution_count": 2,
   "id": "c08b2bb9",
   "metadata": {},
   "outputs": [
    {
     "data": {
      "text/plain": [
       "32"
      ]
     },
     "execution_count": 2,
     "metadata": {},
     "output_type": "execute_result"
    }
   ],
   "source": [
    "x = 0\n",
    "k = 0\n",
    "d = []\n",
    "r = []\n",
    "with open('dataset_261_10.txt') as f:\n",
    "    a = [int(v) for v in f.readline().strip().split(' ')]\n",
    "    x, k = a\n",
    "    for i in range(x):\n",
    "        row = f.readline().strip().split(' ')\n",
    "        d.append([int(j) for j in row])\n",
    "    assert f.readline().strip() == \"-\"\n",
    "    for i in range(x+1):\n",
    "        row = f.readline().strip().split(' ')\n",
    "        r.append([int(j) for j in row])\n",
    "result = MahattanTourist(x,k,d,r)\n",
    "result"
   ]
  },
  {
   "cell_type": "markdown",
   "id": "d4f671a9",
   "metadata": {},
   "source": [
    "## OutputLCS "
   ]
  },
  {
   "cell_type": "markdown",
   "id": "f0a3a5bb",
   "metadata": {},
   "source": [
    "**Input:** Two strings s and t.\n",
    "\n",
    "**Output:** A longest common subsequence of s and t."
   ]
  },
  {
   "cell_type": "code",
   "execution_count": 3,
   "id": "c93fbb07",
   "metadata": {},
   "outputs": [
    {
     "name": "stdout",
     "output_type": "stream",
     "text": [
      "ATAGCCCAAGATAATGCGCTCTGGTACGGCTGAGATCCTAAACTTACTTCTTCACGCGTCCGCCACTGAATGGTAGGCGGATGGGAAAAAAGCTGTTAGGTGCCCCCGCTAAGCTAACAGCCAGGTTCCTACGTGGTTCAGAAGTAAGGATTCCATACAAAGTGGACGCAAGGCCCAAAAGATACGGGTGCTGTGCCATTCGAGACTACGCAGCGGCGCCGAACACTAGACACATTAAAAACTAGACATACATAGGGTCTGCTACGACGAAAGTTTCCGCCCCCTGACGTAACTCCGACCCCTATGCGTCACAAAATGGGATCCTCCCCGCCCGGATCATCGAGATAAGCGGGTCTACTACTTTGCTCCAGCCACTGATCAGCGACAGATGACTTAGTTGCTGGCAGCGACAAGCCCTGATTAGGCTCCGTGGGCGCAGAAACGTGCGCTTTTATAACATCGTGTGGGTGCTGATAGCCCCCCGCTACACCCATTTAAGGCAAGCCGCCTATTGCGCTATGCGGAGGACTCGATTCATATTGCGCTGGTACTCTGACTTTGTGACAGAGCGCCTGGACTGGTATTCATGTTGGAAGGGCACAGA\n"
     ]
    }
   ],
   "source": [
    "from biofunctions.alignment.OutputLCS import OutputLCS,BackTracker\n",
    "with open(\"dataset_245_5.txt\") as f:\n",
    "    i = f.readline().strip()\n",
    "    j = f.readline().strip()\n",
    "\n",
    "backtrack = BackTracker(i, j)\n",
    "lcs = OutputLCS(backtrack, i, len(i), len(j))\n",
    "print(lcs)"
   ]
  },
  {
   "cell_type": "markdown",
   "id": "3849b94e",
   "metadata": {},
   "source": [
    "## Longest Path DAG"
   ]
  },
  {
   "cell_type": "markdown",
   "id": "672285ef",
   "metadata": {},
   "source": [
    "**Input:** An integer representing the starting node to consider in a graph, followed by an integer representing the ending node to consider, followed by a list of edges in the graph. The edge notation \"0 1 7\" indicates that an edge connects node 0 to node 1 with weight 7.  You may assume a given topological order corresponding to nodes in increasing order.\n",
    "\n",
    "**Output:** The length of a longest path in the graph, followed by a longest path as a sequence of space-separated node labels. (If multiple longest paths exist, you may return any one.)"
   ]
  },
  {
   "cell_type": "code",
   "execution_count": 1,
   "id": "5629dbc2",
   "metadata": {},
   "outputs": [],
   "source": [
    "from biofunctions.alignment.LongestPathDAG import LongestPathDAG"
   ]
  },
  {
   "cell_type": "code",
   "execution_count": 5,
   "id": "80b0d7b5",
   "metadata": {},
   "outputs": [],
   "source": [
    "from collections import defaultdict, OrderedDict\n",
    "with open('dataset_245_7.txt') as f:\n",
    "    first = int(f.readline())\n",
    "    last = int(f.readline())\n",
    "    ingraph = OrderedDict()\n",
    "    outgraph = defaultdict(dict)\n",
    "    for line in f:\n",
    "        ins, right = line.split('->')\n",
    "        outs, weight = right.split(' ')\n",
    "\n",
    "        ins = int(ins)\n",
    "        outs = int(outs)\n",
    "        weight = int(weight)\n",
    "\n",
    "        if ins in ingraph:\n",
    "            ingraph[ins][outs] = weight\n",
    "        else:\n",
    "            ingraph[ins] = { outs: weight}\n",
    "        outgraph[outs][ins] = weight"
   ]
  },
  {
   "cell_type": "code",
   "execution_count": 6,
   "id": "70388af8",
   "metadata": {},
   "outputs": [],
   "source": [
    "max_value, ordering = LongestPathDAG(ingraph, outgraph, first, last)"
   ]
  },
  {
   "cell_type": "code",
   "execution_count": 7,
   "id": "bc3e8ada",
   "metadata": {},
   "outputs": [
    {
     "data": {
      "text/plain": [
       "212"
      ]
     },
     "execution_count": 7,
     "metadata": {},
     "output_type": "execute_result"
    }
   ],
   "source": [
    "max_value"
   ]
  },
  {
   "cell_type": "code",
   "execution_count": 8,
   "id": "557457ef",
   "metadata": {},
   "outputs": [
    {
     "data": {
      "text/plain": [
       "[0, 1, 2, 3, 4, 5, 6, 9, 10, 17, 21, 25, 28, 30, 32, 33, 43, 44, 47, 49]"
      ]
     },
     "execution_count": 8,
     "metadata": {},
     "output_type": "execute_result"
    }
   ],
   "source": [
    "ordering"
   ]
  },
  {
   "cell_type": "markdown",
   "id": "43c635e5",
   "metadata": {},
   "source": [
    "## GlobalAlignment"
   ]
  },
  {
   "cell_type": "markdown",
   "id": "21222683",
   "metadata": {},
   "source": [
    "**Input:** A match reward, a mismatch penalty, an indel penalty, and two nucleotide strings.\n",
    "\n",
    "**Output:** The maximum alignment score of these strings followed by an alignment achieving this maximum score."
   ]
  },
  {
   "cell_type": "code",
   "execution_count": 9,
   "id": "9d56131b",
   "metadata": {},
   "outputs": [],
   "source": [
    "from biofunctions.utils.ScoringMatrix import BLOSUM62 \n",
    "from biofunctions.alignment.GlobalAlignment import GlobalAlignment,Alignment "
   ]
  },
  {
   "cell_type": "code",
   "execution_count": 12,
   "id": "39bddd0f",
   "metadata": {},
   "outputs": [
    {
     "name": "stdout",
     "output_type": "stream",
     "text": [
      "2617\n",
      "A-G---AATTTGCTGC-GTATAAGAGGGCAGCTCGCTACTGGGTAGTCAGTTGTGCTTTTCCTTCGCGCC-TAAATCCTTGGGGCCATAATTGCCTTTAAGGCTCCGGGGAGAAAATGGATGCCAATTTGGTAGGGTGGACAGTACGCTCGTATA-C-CGT-CGCCCAACCGTTGCTAAACTTCTTCGGGGGAATCTCCAAATGGGTAACAGAAAATGCGTGATGAGAGCCCCCGATACTGACGCGTGATGTTCATTTATTCTGTCTGAAGCTCTTACTCTAGCAAAATTGGGATCATATTGAGAACTGGGGCATCGAGCTCCAATTTATTCTCATGGCGTCGGGCCGTTCCACGAAGGTATTTCATGTTCCTAAAACCATAC-TT-GTTCGATGG-AGGACTTCCACTCAAGTGGGTTCGGAACGAACTTGCATCGGTCAAACCAGAGTACGAGGTGACTTGGGACCCGGTCGCGACGGGGATAAGAG--C-GAAACACAGCGGATGATTAAACCGTAGATGGTAGAAATACACCCGCCCT--T--GG-TG-C-C-GA-TA--A-TTCTCACAGAATATTTGAAGGTTTTACTCTAATTCC-CGGCGCTAATTATTTTCTATAAGCATGGCGCTGGGTGCGTTCCGGCCAAACTTGGTGATTCCCCTAAGTTATCAAGCC---CC--GGGCAAGTTTCACT-----CTTGACCATTTGGTCTAATGATATGCGTTGAGGTGGTGCGTCGAAACATTGCACACAGTATATCATTTAGGCGTCAATTTATCCCTTAATATACATAGGGCGCCCAATGGGTTAACCATGGACCGGATCGCTCA-TTA-TGAACTC-ATTCGATCATATGTCATTGCGTGATTTACCGCACCCACCGTGCAAATGGTTCTCATTTGAATGTCAAGCCAATGGGGGAAATTGCCC\n",
      "AAGTCCAAATT-C-GCTG-ATAA-ACGGC-GC-CTAT-CTGGGTTGTCAACAA--CA---CCTTTGCGCCGTAACTCCTTGTGGCC------GCCAGCACGGAT--GGAGGTATTTTGCACTCTACCTGGGCTCGGTGGACAGTATAAAC-TCCAGCACGTTCCCCCAACCGTT-CTTGTATTCTTCGGGGCAATCACCAACTTA-TAGCT-AAA--GAA--ATG-G--CTATCAA-A--GACGCGTGATGTTCAATAGAACT-TCT-T---TCAAA-TCGA-CAAA-TTGGG-T--T---GAGAACTGGGGTATCGAGCTC-ACTC-GTTCTCCA--CGAAGGTAAG--CC-------T-T--CATGTTCCCATAACCATATGTTAGGACGAAGGGAGGACTTACACTCAAGTGGGTTCGGAACGAACTTGCATCGGTCAA-C--GAG-A-----TGACT-GG-------TCGCGACGGGGATAAGAGAACCGAGACACCGCG-A--A--A--CCGTAGGTGGTAGAAATACACCCCCCCTCCTTTGGGTGGCTCCGGCTACCAATTCTCACAGAATAATT-ACTGT----CTC-AATGCCTC--CGCTC-TACGCTAAT-TAAGCATGGCGCTG--TGTGTTCCG---ATG-GTGGTGAATGATC-A-GTTATCAAGCCTTTAATTGGACTA-TTTCTCTTAGTACCCGACAACATTGTCTTAACA-ACG-GTTGTGGTGGTGCGACGAAACATTGCA----GTATATCGATTAGGCGTCAATTTA------A-TATACATCGC-CTAGCAATGGGTTA-CCATG-ACCGTATGAC-CGGATAGTGTGCTCCATTCGATCATATGTCGTGGCGTGATTTGCATTACACATT-TGAATATCAAGC-CAATCGGGGGA-GATACACCG----TACTTACC-\n"
     ]
    }
   ],
   "source": [
    "seq1 = 'AGAATTTGCTGCGTATAAGAGGGCAGCTCGCTACTGGGTAGTCAGTTGTGCTTTTCCTTCGCGCCTAAATCCTTGGGGCCATAATTGCCTTTAAGGCTCCGGGGAGAAAATGGATGCCAATTTGGTAGGGTGGACAGTACGCTCGTATACCGTCGCCCAACCGTTGCTAAACTTCTTCGGGGGAATCTCCAAATGGGTAACAGAAAATGCGTGATGAGAGCCCCCGATACTGACGCGTGATGTTCATTTATTCTGTCTGAAGCTCTTACTCTAGCAAAATTGGGATCATATTGAGAACTGGGGCATCGAGCTCCAATTTATTCTCATGGCGTCGGGCCGTTCCACGAAGGTATTTCATGTTCCTAAAACCATACTTGTTCGATGGAGGACTTCCACTCAAGTGGGTTCGGAACGAACTTGCATCGGTCAAACCAGAGTACGAGGTGACTTGGGACCCGGTCGCGACGGGGATAAGAGCGAAACACAGCGGATGATTAAACCGTAGATGGTAGAAATACACCCGCCCTTGGTGCCGATAATTCTCACAGAATATTTGAAGGTTTTACTCTAATTCCCGGCGCTAATTATTTTCTATAAGCATGGCGCTGGGTGCGTTCCGGCCAAACTTGGTGATTCCCCTAAGTTATCAAGCCCCGGGCAAGTTTCACTCTTGACCATTTGGTCTAATGATATGCGTTGAGGTGGTGCGTCGAAACATTGCACACAGTATATCATTTAGGCGTCAATTTATCCCTTAATATACATAGGGCGCCCAATGGGTTAACCATGGACCGGATCGCTCATTATGAACTCATTCGATCATATGTCATTGCGTGATTTACCGCACCCACCGTGCAAATGGTTCTCATTTGAATGTCAAGCCAATGGGGGAAATTGCCC'\n",
    "seq2 = 'AAGTCCAAATTCGCTGATAAACGGCGCCTATCTGGGTTGTCAACAACACCTTTGCGCCGTAACTCCTTGTGGCCGCCAGCACGGATGGAGGTATTTTGCACTCTACCTGGGCTCGGTGGACAGTATAAACTCCAGCACGTTCCCCCAACCGTTCTTGTATTCTTCGGGGCAATCACCAACTTATAGCTAAAGAAATGGCTATCAAAGACGCGTGATGTTCAATAGAACTTCTTTCAAATCGACAAATTGGGTTGAGAACTGGGGTATCGAGCTCACTCGTTCTCCACGAAGGTAAGCCTTCATGTTCCCATAACCATATGTTAGGACGAAGGGAGGACTTACACTCAAGTGGGTTCGGAACGAACTTGCATCGGTCAACGAGATGACTGGTCGCGACGGGGATAAGAGAACCGAGACACCGCGAAACCGTAGGTGGTAGAAATACACCCCCCCTCCTTTGGGTGGCTCCGGCTACCAATTCTCACAGAATAATTACTGTCTCAATGCCTCCGCTCTACGCTAATTAAGCATGGCGCTGTGTGTTCCGATGGTGGTGAATGATCAGTTATCAAGCCTTTAATTGGACTATTTCTCTTAGTACCCGACAACATTGTCTTAACAACGGTTGTGGTGGTGCGACGAAACATTGCAGTATATCGATTAGGCGTCAATTTAATATACATCGCCTAGCAATGGGTTACCATGACCGTATGACCGGATAGTGTGCTCCATTCGATCATATGTCGTGGCGTGATTTGCATTACACATTTGAATATCAAGCCAATCGGGGGAGATACACCGTACTTACC'\n",
    "Backtrack = GlobalAlignment(seq1, seq2,5,BLOSUM62)\n",
    "Alignment(Backtrack, seq1, seq2)"
   ]
  },
  {
   "cell_type": "markdown",
   "id": "569760e4",
   "metadata": {},
   "source": [
    "## LocalAlignment"
   ]
  },
  {
   "cell_type": "markdown",
   "id": "ccd77e87",
   "metadata": {},
   "source": [
    "**Input:** Two protein strings written in the single-letter amino acid alphabet.\n",
    "\n",
    "**Output:** The maximum score of a local alignment of the strings, followed by a local alignment of these strings achieving the maximum score. Use the PAM250 scoring matrix for matches and mismatches as well as the indel penalty σ = 5."
   ]
  },
  {
   "cell_type": "code",
   "execution_count": 1,
   "id": "9c156a03",
   "metadata": {},
   "outputs": [],
   "source": [
    "from biofunctions.utils.ScoringMatrix import PAM250 \n",
    "from biofunctions.alignment.LocalAlignment import LocalAlignment "
   ]
  },
  {
   "cell_type": "code",
   "execution_count": 3,
   "id": "82e0b8fa",
   "metadata": {},
   "outputs": [
    {
     "data": {
      "text/plain": [
       "1430"
      ]
     },
     "execution_count": 3,
     "metadata": {},
     "output_type": "execute_result"
    }
   ],
   "source": [
    "seq1 = \"ACIYHPGQGKEYMEDSNYVEQAITLKFTGWFNRCSEGGGPQLSNDKTPTKRYHHIWNAVRHWIYLLRSHTREILIQFRFKPTGDLMSPPGCRWFYLCSPLMCTFCAWPYSYKKSQVFKTSMKYNKPVCKDWKMQSRGSPKGCVRAQRMNCIISNLYGGFAWYDDDMPWIHLTCSCQQYFKSWITKSQSFDEESMWDLEAQNEKCWVKSVEFSMFQDMLHWDVYYMHRPKRAEMEMDIETEPGQCFWHKFSWQTSTQRKPGLLPKAFYPMWMVIYHNQGGNHEYYIDQICMSLGSSISSVQHREYHPKDNSYVWIYCENIKKVMITIIRSRDWHDQPFSFHHIAKEIWMTEVKNIPCYGRSWRHWSWRDATVKTCDNKLKFQYTEQVNENAGCFVDYTVRRRGATKNCAQKKYDSTGKMPRLKKRSTVYNPCMNWLVACFLFKLQPIWRALDSASESVGNWHHDWFVTHNDFEVCASTPMIYHKYLHTPHMWEWPTKKWSAEDRETFIVHSSNFKQAAIMLNCWQKLFSTISDDWCAIVSTAVVHYAKDTLHGYFCEHRRVKPDIMKIWMTSYAGQYEQLIWNQHFYDSCKVQHMHPFGMHQNKEAPDVLWNDWWGHSLGYMAGEGRVRWGGKNFDDEAPVRHFNPVDRKMHVTHCQHCLIEAKGNNSEQVKTYIHTPVLVPKNRSWMKLVMMAVHCMWYDFIQGFTIKFVNGAQHWETTVYMKHRIFFNAHDMKWLDAKCDIQMKYIMCHQVYENICNKDDNHGAWFQCADCERWCPVRMSSYKNTSMRCSFGVDRMKWYGHQEAQYEIMIPMMFMTDQNLDRISRKVTFKDAVNPIGRMPDYSHRGQKNSWYNQWDVLEYSFTVPLDTGHVVSLSWPDEGVVWLTNQVCHFRVTNYGNF\"\n",
    "seq2 = \"KRLQQMFCRRQCLHHMQRFLKLGYRIQWVQHHHQLRHSIPTPPHQIWGMTPGTIYPVYEIICWDAQTSNWTTDDTKCDRHNKFKIHAYKQWMRMATGKNNRLHNTKCWRQRCTIHNRWLVSVKFKYVQTVNMHCDIKQCGCHCWRRWLCLNLCLWYMQEISDSIGMNDGPMSQWCSDCHHMFWAWSNHLFQTHCEVDYPNYQPNRSCFYNRGCCRVINISNESHSAQIFQCDPRTGCAAGLDISTFYPRPSTNALLHMPMSIETSGWKNAEECIYDFCFSKPECFLNKHTSTQRKPPLLPKAFYPMKMVIYHNQGGNHEYYWDQICMISSVQHREYAPKDNSWKNKDNVWIYCENCDKKVMITIIRSRDWHDQRFSFHHIAGVGIPCYMRSWSWRDATVKTCKLKFQYTEQVDYTCAQKHYDSLMHHKMPRSKKRMTKYNVCMNWLVACFLFKLQPDWRALDSASESVGNWHHDWFVTHNDFEVQASTPMIYHKYLHTPHMWEWPTKKWSAEDRERFWTKCYCSNFKQNIDRHPAIMLNAWQYWQKLPSTISDDWCMGDFFPPVLIVSTAVVHYAKDTYFCEHRRVKNVDPMKIWMTSYAGQYEQLIWNQHFDAFSFIWTVSGYAHMKVVYAVAVNNWTKIQEWFTKCHPWGWMTVKTHNNNTRYPVCYVETKYTCFNAPNSMEIGPSIFGTLDQIEKTVSGNMWRPGRGFHRQWFNWAFYCSTNPDGDFGSYFIQYIGYFTMHGTLHRQDEMGHSCLKWYQCGHFPWFGAYDWDMAQDVLKAWGVPQRICLYTRGCTCTTMTFEDWMERMNMNMQMEMRNPMMVHRYSDAGACIRTERYTQVRQMGEDVSTHRAMAPTHYMLPAAICHGQVKCSKMDWITKVWYPFPRHEWDRWVITMGRTKIFPMRFQTPEECECMTYMIMGD\"\n",
    "\n",
    "max_alignment_score, string_a, string_b = LocalAlignment(seq1, seq2, 5, PAM250)\n",
    "max_alignment_score"
   ]
  },
  {
   "cell_type": "markdown",
   "id": "e62e1726",
   "metadata": {},
   "source": [
    "## EditDistance"
   ]
  },
  {
   "cell_type": "markdown",
   "id": "5840ca60",
   "metadata": {},
   "source": [
    "**Input:** Two strings.\n",
    "\n",
    "**Output:** The edit distance between these strings."
   ]
  },
  {
   "cell_type": "code",
   "execution_count": 4,
   "id": "b53c3ba8",
   "metadata": {},
   "outputs": [],
   "source": [
    "from biofunctions.alignment.EditDistance import EditDistance"
   ]
  },
  {
   "cell_type": "code",
   "execution_count": 5,
   "id": "59697aaa",
   "metadata": {},
   "outputs": [
    {
     "data": {
      "text/plain": [
       "318"
      ]
     },
     "execution_count": 5,
     "metadata": {},
     "output_type": "execute_result"
    }
   ],
   "source": [
    "a = \"CGCAGATCAGACCACTAGGCACACGGTGAAAGCTACGCTGATTCGTGTTCTGTTCAGGTGGTTAAGTTGGGTGAAAGTCAGGACGCAAGGTCTGTTAGGTGCGACGGATAGGTATGGAATTATATTTACAAGTCTACTGCGGACAAGGGGACTTGCTTGTAATATTACCAACACCCAAGTGCTGGCTAATACGGACGCGACATCGTCGCTCTGCGCCGCTGTATGGGTATTTCGACGTATGGAATCTATGGACGATGAGTCTTAGGATGGAAGCTAATACTCACCCCCGCGCCCACGACCGCAGTCGATTCCAGTTGCGTAGCGCGCTCTTAACTGTTTAAGCCCACACAGTTCCCCACAGCTGAAGTACCCCACTCACGGCTGGGCCCCAGTAAAGCCTTTGGCCTAAGCGACAGTTGGCGTCTTACCGTGCCGGGACAAGTAGTATGCTACTTAACCTGTAACATTGTTCGGCCTTTTGTCAATTTGATGCGCAATAAAGTCGGCGCACCTAGAGAATACTTCAGCGTATTCTCGCAGTTCCGGAGGGATCTGACTTTCCTAAATTCCACTCATGTGCAGCGTACAATTAAGAGTACTAAGCGAGCGAGAGGCATAACCCAATGCTTTGAGTGTATTCCTGCCGTTGGTGGATATATGAGAATTGTAACGATCGTTAAGCAGTACGCATATCTTAAGCGTATGACCCAGGGATGTAATTCATCCTTTTTGGGTGCAGTAAAACTCTATACGAACCAGCGTCCTCTCTTCTGACCCGGGAATACATAATCGTAGTTCCTTTAGGCTGGGTCCTGCTAGTTACAATTTTAGACCCATAAAATGCTACCCAGGTCGTCGAACTCAATGAGTACCCCAACTCTCACTGACACCAAACAGGGT\"\n",
    "b = \"CGCAGATCAGACCACTGGTGGCTTATAAAGTTACGCTTATCTGTTCACGGTTGGGTGAAATGTCAGGAAGCAAGGTCTGTTAGGTGCTACGATCCAATAGGAACTCAGATATATGTCTGCCCTGCGGATAGTTATGGGAGTTGATTGTAACATTACCAACATACCCAAGTGCTGGCTTATACGACAATAGATGCGACATTCTACGCCGCTGTATTTTCGACTTATGGAATCTATGGACGATGAGTCTTAGGAACCTAATACTTACGCCCGCGCCCACGACGACGCAGTGAGATGTGAACGCGCTCTTAAGGCGCTGGTGCAGTTCCCAACGAACGAGGGAAGACATCACCCGTATGATAATGCGGTACCAATCACGGCTGGGTCCGTCCTCCCTGGTAAAGCCAAAAGCGACTTGCCGACTTACCGTGGGTTAGCAGGAGAGACTAAGTAGTATCATACTCAACCTGTAACATTGTTCGCCCTTATCTAGGCCGAAACAATTCGATGAGCTGATGTCGGCGCACCTAAACGCGACATACAGTTCCGCAGGGATCGTTGAAACTCCTAAATGCGAGATTCATAGTACTGGTAGTAGAGAGCGAGATGTCGTTAGGGTAAGTAGCGGTAATGAGCCAAAGGAGCTTTAAGTGTCATGTTACCGTTGGTGGCCATATGAGGATTGTAAGCCGGCCCGTACGCATATCTTAAGCGTATGACCCAGGTAGAGCCATCGGTCCTGGGTGCAATGGCGAAACTCTATACTAGCAAGTGGTCCTCTCTTCTAATACATAACAAATAACGTAGTCCAGCCTTTAGGACGCACGAAATCTACCCAATTTGCAGAATAAAAAACCCGCGCTACCCAGATCGTCGAAATCGCCATGAGTACCCCAACCCCATCTGACTCTAAAACTAAACAGGGT\"\n",
    "EditDistance(a, b)"
   ]
  },
  {
   "cell_type": "markdown",
   "id": "bdc7231a",
   "metadata": {},
   "source": [
    "## FittingAlignment"
   ]
  },
  {
   "cell_type": "markdown",
   "id": "f68a7de4",
   "metadata": {},
   "source": [
    "**Input:** Two amino acid strings.\n",
    "\n",
    "**Output:** A highest-scoring fitting alignment between v and w. Use the BLOSUM62 scoring table."
   ]
  },
  {
   "cell_type": "code",
   "execution_count": 6,
   "id": "4905dbc9",
   "metadata": {},
   "outputs": [],
   "source": [
    "from biofunctions.utils.ScoringMatrix import BLOSUM62\n",
    "from biofunctions.alignment.FittingAlignment import FittingAlignment "
   ]
  },
  {
   "cell_type": "code",
   "execution_count": 7,
   "id": "c040dc7c",
   "metadata": {},
   "outputs": [
    {
     "data": {
      "text/plain": [
       "(458,\n",
       " 'VYQAKGENVMLTFALWT-----HPTIWYFAP--L--IPFIKICQDVTPS----T----SMWRGSVSWTPRMTLYQICGWNLCTFWNFSGVTVTIKKDHYVWTGCRIMNDAHNV',\n",
       " 'VYQAKGENVMLTFALWTLDCRSHPTIWYFAPLGLPCIPFITICQDVTPSTCPNTSKENSMWRGSVSWTPRMTLNQICGWNLCTFWNFSG--V---KDH---S-CRIMNDAHNV')"
      ]
     },
     "execution_count": 7,
     "metadata": {},
     "output_type": "execute_result"
    }
   ],
   "source": [
    "#indel=-1\n",
    "seq1=\"VQRKRQCMVWCCNTFINAWRHAIQVYRENYKATVWEPHENPNWCRFMVPIVHNFLCKWQCTVQKKQRDWIKPSYGCRTVWWICETGVGNGYLQMQSSWMHPSPIHECPRNPGKVGLCKAYMICQVTTVQATGIPKFNVWNVQTCSYRDFNAAQLHGAIIHHIVHWKECGMMIGTKEPLCIYIDDGYMAYYDELDKWPYCCPFWLLLYFMFMNIGNEWWAAVGASKHQRPNIREAYCSMVQPPQFSIIMANAVMKSRCMRMALFMASDQFFRTLPMWQNSSGQFTQQMWTLYQDGHHHIKKDVADPNMYDEPDLLRRFNIRRCHNDTTGCLWGVVFRFVSWMLGVYQAKGENVMLTFALWTHPTIWYFAPLIPFIKICQDVTPSTSMWRGSVSWTPRMTLYQICGWNLCTFWNFSGVTVTIKKDHYVWTGCRIMNDAHNVEDTCMRAGHDCIASCGIGMKDRRPRQPNFPEMSCFSPHLLSRRWWVNMLLPLPITTPVPDISTTTDTYRWGTMPHTADMKMEERTFNTGVRRHHHEIRTDPTYCGQWQFCQTPMDPELTDHWMDLTKGCTPNMWVPMDTRGGDCDQPKWENLHSVMVWCNEESNFCFAEMSHAPMWTFTMVGHIRDIYVFQWSSYLETPYYACIAKNIRWDMEAIHLMGTCRYDMRLDKDISFHVASECCDWIYKAIKFLFVELSPPSSAHREEIDPWTTREVRNDASRDASALNRVKLEPHALALHSVPNHHQEFCRIGHIYNKHIQQGVELVPTSWQCFAPPLHANFEVWDIHDPIDIAGCTDHVVNLTGYRAFHDDIALDFEMKRYKYQGNFLAMMPPEICYHGCVQSTDLDDGVACVIVQKPYRSYPTFGKFGHICPCEIPIDRCGWCDCTKYMLYLVSPDQMSQFLTAGWCHQHNRDRLHARARGHSECRMYLMDNQCAVNSIIRWMTIGYITQRQWHYPWQFHVFFMVSDADNTTHHHMCFQLVGRYFAEFHMDWKKTQPEYWPR\"\n",
    "seq2=\"VYQAKGENVMLTFALWTLDCRSHPTIWYFAPLGLPCIPFITICQDVTPSTCPNTSKENSMWRGSVSWTPRMTLNQICGWNLCTFWNFSGVKDHSCRIMNDAHNV\"\n",
    "FittingAlignment(seq1,seq2,-1,BLOSUM62)"
   ]
  },
  {
   "cell_type": "markdown",
   "id": "4abd980d",
   "metadata": {},
   "source": [
    "## OverlapAlignment"
   ]
  },
  {
   "cell_type": "markdown",
   "id": "47d60dd5",
   "metadata": {},
   "source": [
    "**Input:** A match reward, a mismatch penalty, an indel penalty, and two nucleotide strings v and w.\n",
    "\n",
    "**Output:** The score of an optimal overlap alignment of v and w, followed by an alignment of a suffix v' of v and a prefix w' of w achieving this maximum score."
   ]
  },
  {
   "cell_type": "code",
   "execution_count": 9,
   "id": "ca783e7c",
   "metadata": {},
   "outputs": [],
   "source": [
    "from biofunctions.alignment.OverlapAlignment import OverlapAlignment "
   ]
  },
  {
   "cell_type": "code",
   "execution_count": 12,
   "id": "e3aed315",
   "metadata": {},
   "outputs": [],
   "source": [
    "seq1 = \"GAGA\"\n",
    "seq2 = \"GAT\"\n",
    "p = 2\n",
    "\n",
    "max_alignment_score, str1, str2 = OverlapAlignment(seq1, seq2, p)"
   ]
  },
  {
   "cell_type": "code",
   "execution_count": 11,
   "id": "6be9969e",
   "metadata": {},
   "outputs": [
    {
     "data": {
      "text/plain": [
       "2"
      ]
     },
     "execution_count": 11,
     "metadata": {},
     "output_type": "execute_result"
    }
   ],
   "source": [
    "max_alignment_score"
   ]
  },
  {
   "cell_type": "code",
   "execution_count": 13,
   "id": "7c613143",
   "metadata": {},
   "outputs": [
    {
     "data": {
      "text/plain": [
       "'GA'"
      ]
     },
     "execution_count": 13,
     "metadata": {},
     "output_type": "execute_result"
    }
   ],
   "source": [
    "str1"
   ]
  },
  {
   "cell_type": "code",
   "execution_count": 14,
   "id": "e956f789",
   "metadata": {},
   "outputs": [
    {
     "data": {
      "text/plain": [
       "'GA'"
      ]
     },
     "execution_count": 14,
     "metadata": {},
     "output_type": "execute_result"
    }
   ],
   "source": [
    "str2"
   ]
  },
  {
   "cell_type": "markdown",
   "id": "fd4aecba",
   "metadata": {},
   "source": [
    "## AlignmentwithAffineGapPenalties"
   ]
  },
  {
   "cell_type": "markdown",
   "id": "4a13fd83",
   "metadata": {},
   "source": [
    "**Input:** A match reward, a mismatch penalty, a gap opening penalty, a gap extension penalty, and two nucleotide strings.\n",
    "\n",
    "**Output:** The maximum alignment score between v and w, followed by an alignment of v and w achieving this maximum score."
   ]
  },
  {
   "cell_type": "code",
   "execution_count": 2,
   "id": "244b9f92",
   "metadata": {},
   "outputs": [
    {
     "data": {
      "text/plain": [
       "(396,\n",
       " 'TGCGCAA-AGC--GGTGCCCGATA---C--GCC-ACGTCGAAGGGGCT---------ACTCAGAT-ATAATATACCGGGTACGCCCGGAGTAAGTACTACGACCCGTCC',\n",
       " 'AGCGCAAGAACATGGTGCCCGATAATTCCGGCCAAAGTCGAAGGG-CTTAGATGAAGAATCA-ATCATAATATACCGGG-A-GTA---AGTA-GTT-TACGATCCGTCC')"
      ]
     },
     "execution_count": 2,
     "metadata": {},
     "output_type": "execute_result"
    }
   ],
   "source": [
    "from biofunctions.utils.ScoringMatrix import BLOSUM62\n",
    "from biofunctions.alignment.AlignmentwithAffineGapPenalties import AffineGapPenalties \n",
    "seq1=\"TGCGCAAAGCGGTGCCCGATACGCCACGTCGAAGGGGCTACTCAGATATAATATACCGGGTACGCCCGGAGTAAGTACTACGACCCGTCC\"\n",
    "seq2=\"AGCGCAAGAACATGGTGCCCGATAATTCCGGCCAAAGTCGAAGGGCTTAGATGAAGAATCAATCATAATATACCGGGAGTAAGTAGTTTACGATCCGTCC\"\n",
    "AffineGapPenalties(seq1,seq2,-2,-1,BLOSUM62)"
   ]
  },
  {
   "cell_type": "markdown",
   "id": "c142df1c",
   "metadata": {},
   "source": [
    "## MiddleEdge\n",
    "\n",
    "**Input:** A match reward, a mismatch penalty, an indel penalty, and two nucleotide strings.\n",
    "\n",
    "**Output:** A middle edge in the alignment graph."
   ]
  },
  {
   "cell_type": "code",
   "execution_count": 2,
   "id": "9501afda",
   "metadata": {},
   "outputs": [],
   "source": [
    "from biofunctions.utils.ScoringMatrix import BLOSUM62\n",
    "from biofunctions.alignment.MiddleEdge import MiddleEdge \n",
    "\n",
    "seq1 = \"GAGA\"\n",
    "seq2 = \"GAT\"\n",
    "penality = 5\n",
    "edge1, edge2, direction = MiddleEdge(seq1, seq2, penality,BLOSUM62)"
   ]
  },
  {
   "cell_type": "code",
   "execution_count": 3,
   "id": "3b3aec62",
   "metadata": {},
   "outputs": [
    {
     "data": {
      "text/plain": [
       "(2, 1)"
      ]
     },
     "execution_count": 3,
     "metadata": {},
     "output_type": "execute_result"
    }
   ],
   "source": [
    "edge1"
   ]
  },
  {
   "cell_type": "code",
   "execution_count": 4,
   "id": "c7d5d9f2",
   "metadata": {},
   "outputs": [
    {
     "data": {
      "text/plain": [
       "(2, 2)"
      ]
     },
     "execution_count": 4,
     "metadata": {},
     "output_type": "execute_result"
    }
   ],
   "source": [
    "edge2"
   ]
  },
  {
   "cell_type": "markdown",
   "id": "5eb999ec",
   "metadata": {},
   "source": [
    "## LinearSpaceAlignment"
   ]
  },
  {
   "cell_type": "markdown",
   "id": "8bb7eb6e",
   "metadata": {},
   "source": [
    "**Input:** A match reward, a mismatch penalty, an indel penalty, and two long (2000 nucleotide) DNA strings.\n",
    "\n",
    "**Output:** The maximum alignment score of these strings, followed by an alignment achieving this maximum score."
   ]
  },
  {
   "cell_type": "code",
   "execution_count": 1,
   "id": "c4562fd3",
   "metadata": {},
   "outputs": [],
   "source": [
    "from biofunctions.alignment.LinearSpaceAlignment import LinearSpaceAlignment, OutputLCS\n",
    "from biofunctions.utils.ScoringMatrix import BLOSUM62"
   ]
  },
  {
   "cell_type": "code",
   "execution_count": 2,
   "id": "57f49cb9",
   "metadata": {},
   "outputs": [
    {
     "name": "stdout",
     "output_type": "stream",
     "text": [
      "('PLEASAN-TL', '--MEAN-L-Y')\n"
     ]
    }
   ],
   "source": [
    "seq1 = \"MEANLY\"\n",
    "seq2 = \"PLEASANTLY\"\n",
    "stack = []\n",
    "LinearSpaceAlignment(seq1, seq2, 0, len(seq1), 0, len(seq2), 5, stack, BLOSUM62)\n",
    "result = \"\".join(filter(lambda x: x, stack))\n",
    "print(OutputLCS(result[::-1], seq2, seq1))"
   ]
  },
  {
   "cell_type": "markdown",
   "id": "eae6789e",
   "metadata": {},
   "source": [
    "## Greedy Sorting"
   ]
  },
  {
   "cell_type": "markdown",
   "id": "4c524f60",
   "metadata": {},
   "source": [
    "**Input:** A permutation P.\n",
    "\n",
    "**Output:** The sequence of permutations corresponding to applying GreedySorting to P, ending with the identity permutation."
   ]
  },
  {
   "cell_type": "code",
   "execution_count": 3,
   "id": "5cde8256",
   "metadata": {},
   "outputs": [],
   "source": [
    "from biofunctions.alignment.GreedySorting import GreedySorting"
   ]
  },
  {
   "cell_type": "code",
   "execution_count": 4,
   "id": "5595bc5c",
   "metadata": {},
   "outputs": [
    {
     "name": "stdout",
     "output_type": "stream",
     "text": [
      "-1 -4 +3 +5 -2\n",
      "+1 -4 +3 +5 -2\n",
      "+1 +2 -5 -3 +4\n",
      "+1 +2 +3 +5 +4\n",
      "+1 +2 +3 -4 -5\n",
      "+1 +2 +3 +4 -5\n",
      "+1 +2 +3 +4 +5\n"
     ]
    }
   ],
   "source": [
    "string=\"-3 +4 +1 +5 -2\"\n",
    "P = string.rstrip()\n",
    "\n",
    "result = GreedySorting(P)"
   ]
  },
  {
   "cell_type": "markdown",
   "id": "c4645ec4",
   "metadata": {},
   "source": [
    "## Breakpoints"
   ]
  },
  {
   "cell_type": "markdown",
   "id": "c9edc202",
   "metadata": {},
   "source": [
    "**Input:** A permutation.\n",
    "\n",
    "**Output:** The number of breakpoints in the given permutation."
   ]
  },
  {
   "cell_type": "code",
   "execution_count": 6,
   "id": "6d891281",
   "metadata": {},
   "outputs": [
    {
     "name": "stdout",
     "output_type": "stream",
     "text": [
      "183\n"
     ]
    }
   ],
   "source": [
    "from biofunctions.alignment.Breakpoints import Breakpoints\n",
    "x = '+1 +2 +3 +4 +5 +6 +7 +8 +9 +10 +11 +12 +13 +14 -4382 -4381 -4380 -4379 -4378 -4377 -4376 -4375 -4374 -4373 -4372 -4371 -4370 -4369 -4368 -4367 -4366 -4365 -4364 -4363 -4362 -4361 -4360 -4359 -4358 -4357 -4356 -4355 -9231 -9230 -9229 -9228 -9227 -9226 -9225 -9224 -9223 -9222 -9221 -9220 -9219 -9218 -9217 -9216 -9215 -9214 -9213 -9212 -9211 -9210 -9209 -9208 -9207 -9206 -9205 -9204 -9203 -9202 -9201 -9200 -9199 -9198 -9197 -9196 -9195 -9194 -4951 -4950 -4949 -4948 -4947 -4946 -4945 -4944 -4943 -4942 -4941 -4940 -4939 -4938 -4937 -4936 -4935 -4934 -4933 -4932 -4931 -4930 -4929 -4928 -4927 -4926 -4925 -4924 -4923 -4922 -4921 -4920 +1900 +1901 +1902 +1903 +1904 +1905 +1906 +1907 +1908 +1909 +1910 +1911 +1912 +1913 +1914 +1915 +1916 +1917 +1918 +1919 +1920 +1921 +1922 +1923 +1924 +1925 +1926 +1927 +1928 +1929 +1930 +1931 +1932 +1933 +1934 +1935 +1936 +1937 +1938 +1939 +1940 +1941 +1942 +1943 +1944 +1945 +1946 +1947 +1948 +1949 -147 -146 -145 -144 -143 -142 -141 -140 -139 -138 -137 -136 -135 -134 -133 -132 -131 -130 -129 -128 -127 -126 -125 -124 -123 -122 -121 -120 -119 -118 -117 -116 -115 -114 -113 -112 -111 -110 -109 -108 -107 -106 -105 -104 -103 -102 -101 -100 -99 -98 -97 -96 -95 -94 -93 -92 -91 -90 -89 -88 -87 -86 -85 -84 -83 -82 -81 -80 -79 -78 -77 -76 -75 -74 -73 -72 -71 -70 -69 -68 -67 -66 -65 -64 -63 -62 -61 -60 -59 -58 -57 -56 -55 -54 -53 -52 -8560 -8559 -8558 -8557 -8556 -8555 -8554 -8553 -8552 -8551 -8550 -8549 -8548 -8547 -8546 -8545 -8544 -8543 -8542 -8541 -8540 -8539 -8538 -9162 -9161 -9160 -9159 -9158 -9157 -9156 -9155 -9154 -9153 -9152 -9151 -9150 -9149 -9148 -9147 -9146 -9145 -9144 -9143 -9142 -9141 -9140 -9139 -9138 -9137 -9136 -9135 -9134 -9133 -9132 -9131 -9130 -9129 -9128 -9127 -9126 -9125 -9124 -9123 -9122 -9121 -9120 -9119 -9118 -9117 -9116 -9115 -9114 -9113 -9112 -9111 -9110 -9109 -9108 -9107 -9106 -9105 -9104 -9103 -9102 -9101 -9100 -9099 -9098 +7639 +7640 +7641 +7642 +7643 +7644 +7645 +7646 +7647 +7648 +7649 +7650 +7651 +7652 +7653 +7654 +7655 +7656 +7657 +7658 +7659 +7660 +7661 +7662 +7663 +7664 +7665 +7666 +7667 +7668 -1678 -1677 -1676 -1675 -1674 -1673 -1672 -1671 -1670 -1669 -1668 -1667 -1666 -1665 -1664 -1663 -1662 -1661 -1660 -1659 -1658 -1657 -1656 -1655 -1654 -1653 -1652 -1651 -1650 -1649 -1648 -1647 -1646 -1645 -1644 -1643 -1642 -1641 -1640 -1639 -1638 -1637 -1636 -1635 -5525 -5524 -5523 -5522 -5521 -5520 -5519 -5518 -5517 -5516 -5515 -5514 -5513 -5512 -5511 -5510 -5509 -5508 -5507 -5506 -5505 -5504 -5503 -5502 -5501 -5375 -5374 -5373 -5372 -5371 -5370 -5369 -5368 -5367 -5366 -5365 -5364 -5363 -5362 -5361 -5360 -5359 -5358 -5357 -5356 -5355 -5354 -5353 -5352 -5351 -5350 -5349 -5348 -5347 -5346 -5345 -5344 -5343 -5342 -5341 -5340 -5339 -5338 -5337 -5336 -5335 -5334 -5333 -5332 -5331 -5330 -5329 -5328 -5327 -5326 -5325 -5324 -5323 -5322 +6577 +6578 +6579 +6580 +6581 +6582 +6583 +6584 +6585 +6586 +6587 +6588 +6589 +6590 +6591 +6592 +6593 +6594 +6595 +6596 +6597 +6598 +6599 +6600 +6601 +6602 -9235 -9234 -9233 -9232 -4354 -4353 -4352 -4351 -4350 -4349 -4348 -4347 -4346 -4345 -4344 -4343 -4342 -4341 -4340 -4339 -4338 -4337 -4336 -4335 -4334 -4333 -4332 -4331 -4330 -4329 -5556 -5555 -5554 -5553 -5552 -5551 -5550 -5549 -5548 -5547 -5546 -5545 -5544 -5543 -5542 -5541 -5540 -5539 -5538 -5537 -5536 -5535 -5534 -5533 -5532 -5531 -5530 -5529 -5528 -5527 -5526 -1634 -1633 -1632 -1631 -1630 -1629 -1628 -1627 -1626 -1625 -1624 -1623 -1622 -1621 -1620 -1619 -1618 -1617 -1616 -1615 -1614 -1613 -1612 -1611 -7310 -7309 -7308 -7307 -7306 -7305 -7304 -7303 -7302 -7301 -7300 -7299 -7298 -7297 -7296 -7295 -7294 -7293 -7292 -7291 -7290 -7289 -7288 -7287 -7286 -7285 -7284 -7283 -7282 -7281 -7280 -7279 -7278 -7277 -7276 -7275 -7274 -7273 -7272 -7271 -7270 -7269 -7268 -7267 -7266 -7265 -7264 -7263 -7262 -7261 -7260 -7259 -7258 -7257 -7256 -7255 -7254 -7253 -7252 -7251 -7250 -7249 -7248 -7247 -7246 -7245 -7244 -7243 -7242 -7241 -7240 -7239 -7238 -7237 -7236 -7235 -7234 -7233 -7232 -7231 -7230 -7229 -7228 -7227 -7226 -7225 -7224 -7223 -7222 -7221 -7220 -7219 -7218 -7217 -7216 -7215 -7214 -7213 -7212 -7211 -7210 -7209 -7208 -7207 -7206 +4505 +4506 +3962 +3963 +3964 +3965 +3966 +3967 +3968 +3969 +3970 +3971 +3972 +3973 +3974 +3975 +3976 +3977 +3978 +3979 +3980 +3981 +3982 +3983 +3984 +3985 +3986 +3987 +3988 +3989 +3990 +3991 +3992 +3993 +3994 +3995 +3996 +3997 +3998 +3999 +4000 +4001 +4002 +4003 +4004 +4005 +4006 +4007 +4008 +4009 +4010 +4011 +4012 +4013 +4014 +4015 +4016 +4017 +4018 +4019 +4020 +4021 +4022 +4023 +4024 +4025 +4026 +4027 +4028 +4029 +4030 +4031 +4032 +4033 +4034 +4035 +4036 +4037 +4038 +4039 +4040 +4041 +4042 +4043 +4044 +4045 +4046 -954 -953 -952 -951 -950 -949 -948 -947 -946 -945 -944 -943 -942 -941 -940 -939 -938 -937 -936 -935 -934 -933 -932 -931 -930 -929 -928 -927 -926 -925 -924 -923 -922 -921 -920 -919 -918 -917 -916 -915 -914 -913 -912 -911 -910 -909 -908 -907 -906 -905 -904 -903 -902 -901 -900 -899 -898 -897 -896 -895 -894 -893 -892 -891 -890 -889 -888 -887 -886 -885 -884 -883 -882 -881 -880 -879 -878 -877 -876 -875 -874 -873 -872 -871 -870 -869 -868 -867 -866 -865 -864 -863 -862 -861 -860 -859 -858 -857 -856 -855 -3802 -3801 -3800 -3799 -3798 -3797 -3796 -3795 -3794 -3793 -3792 -3791 -3790 -3789 -3788 -3787 -3786 -3785 -3784 -3783 -3782 -3781 -3780 -3779 -3778 -3777 -3776 -3775 -3774 -3773 -3772 -3771 -3770 -3769 -3768 -3767 -3766 -3765 +2926 -5098 -5097 -5096 -5095 -5094 -5093 -5092 -5091 -5090 -5089 -5088 -5087 -5086 -5085 -5084 +1313 +1314 +1315 +1316 +1317 +1318 +1319 +1320 +1321 +1322 +1323 +1324 +1325 +1326 +1327 +1328 +1329 +1330 -1423 -1422 -1421 -1420 -1419 -1418 -1417 -1416 -2497 -2496 -2495 -2494 -2493 -2492 -2491 -2490 -2489 -2488 -2487 -2486 -2485 -2484 -2483 -2482 -2481 -2480 -2479 -2478 -2477 -2476 -2475 -2474 -2473 -2472 -2471 -2470 -2469 -2468 -2467 -2466 -2465 -2464 -2463 -2462 -2461 -2460 -2459 -2458 -2457 -2456 -2455 -2454 -2453 -2452 -2451 -2450 -2449 -2448 -2447 -2446 -2445 -2444 -2443 -2442 -2441 -2440 -2439 -2438 -2437 -2436 -2435 -2434 -2433 -2432 -2431 -2430 -2429 -2428 -2427 -2426 -2425 -2424 -2423 -2422 -2421 -2420 -2419 -2418 -2417 -2416 -2415 -2414 -2413 -2412 -2411 -2410 -2409 -2408 -2407 -2406 -2405 -2404 -2403 -2402 -2401 -2400 -2399 -2398 -2397 -2396 -2395 -2394 -2393 -2392 -2391 -2390 -2389 -2388 -2387 -2386 -2385 -2384 -2383 -2382 -2381 -2380 -2379 -2378 -2377 -2376 -2375 -2374 -2373 +6981 +6982 +6983 +6984 +6985 +6986 +6987 +6988 +6989 +6990 +6991 +6992 +6993 +6994 +6995 +6996 +6997 +6998 +6999 +7000 +7001 +7002 +7003 +7004 +7005 +7006 +7007 +7008 +7009 +7010 +7011 +7012 +7013 +7014 +7015 +7016 +7017 +7018 +7019 +7020 +7021 +7022 +7023 +7024 +7025 +7026 +7027 -5975 -5974 -5973 -5972 -5971 -5970 -5969 -5968 -5967 -5966 -5965 -5964 -5963 -5962 -5961 -5960 -5959 -5958 -5957 -5956 -5955 -5954 -5953 -5952 -5951 -5950 -5949 -5948 -5947 -5946 -5945 -5944 -5943 -5942 -5941 -5940 -5939 -5938 -5937 -5936 -5935 -5934 -5933 -5932 -5931 -5930 -5929 -5928 -5927 -5926 -5925 -5924 -5923 -5922 -5921 -5920 -5919 -5918 -5917 -5916 -5915 -5914 -5913 -5912 -5911 -5910 -5909 -5908 -5907 -5906 -5905 -5904 -5903 -5902 -5901 -5900 -5899 -5898 -5897 -5896 -5895 -5894 -5893 -5892 -5891 -5890 -5889 -5888 -5887 -5886 -5885 -5884 -5883 -5882 -5881 -5880 -5879 -5878 -5877 -5876 -5875 -5874 -5873 -5872 -5871 -5870 -5869 -5868 -5867 -5866 -5865 -5864 -5863 -5862 -5861 -5860 -5859 -5858 -5857 -5856 -5855 -5854 -5853 -5852 -5851 -5850 -5849 -5848 -5847 -5846 -5845 -5844 -5843 -5842 -5841 -5840 -5839 -5838 -5837 -5836 -5835 -5834 -5833 -5832 -5831 -5830 -5829 -5828 -5827 -5826 -5825 -5824 -5823 -5822 -5821 -5820 -5819 -5818 -5817 -5816 -5815 -5814 -5813 -5812 -5811 -5810 -5809 -5808 -5807 -5806 -5805 -5804 -5803 -5802 -5801 -5800 +6120 +6121 +6122 +6123 +6124 +6125 +6126 +6127 +6128 +6129 +6130 +6131 +6132 +6133 +6134 +6135 +6136 +6137 +6138 +6139 +6140 +6141 +6142 +6143 +6144 +6145 +6146 +6147 +6148 +6149 +6150 +6151 +6152 +6153 +6154 +6155 +6156 +6157 +6158 +6159 +6160 +6161 +6162 +6163 +6164 +6165 +6166 +6167 +6168 +6169 +6170 +6171 +6172 +6173 +6174 +6175 +6176 +6177 +6178 +6179 +6180 +6181 +6182 +6183 +6184 +6185 +6186 +6187 +6188 +6189 +6190 +6191 +6192 +6193 +6194 +6195 +6196 +6197 +6198 +6199 +6200 +6201 +6202 +6203 +6204 +6205 +6206 +6207 +6208 +6209 +6210 +6211 +6212 +6213 +6214 +6215 +6216 +6217 +6218 +6219 +6220 +6221 +6222 +6223 +6224 +6225 +6226 +6227 +6228 +6229 +6230 +6231 +6232 +6233 +6234 +6235 +6236 +6237 +6238 +6239 +6240 +6241 +6242 +6243 +6244 +6245 +6246 +6247 +6248 +6249 +6250 +6251 +6252 +6253 +6254 +6255 +6256 +6257 +6258 +6259 +6260 +6261 +6262 +6263 +6264 +6265 +6266 +6267 +6268 +6269 +6270 +6271 +6272 +6273 +6274 +6275 +6276 +6277 +6278 +6279 +6280 +6281 +6282 +6283 +6284 +6285 +6286 +6287 +6288 +6289 +6290 +6291 +6292 +6293 +6294 +6295 +6296 +6297 +6298 +6299 +6300 +6301 +6302 +6303 +6304 +6305 +6306 +6307 +6308 +6309 +6310 +6311 +6312 +6313 -6495 -6494 -6493 -6492 -6491 -6490 -6489 -6488 -6487 -6486 -6485 -6484 -6483 -6482 -6481 -6480 -6479 -6478 -6477 -6476 -6475 -6474 -6473 -6472 -6471 -6470 -6469 +8804 +8805 +8806 +8807 +8808 +8809 +8810 +8811 +8812 +8813 +8814 +8815 +5722 +5723 +5724 +5725 +5726 +5727 +5728 +5729 +5730 +5731 +5732 +5733 +5734 +5735 +5736 +375 +376 +377 +378 +379 +380 +381 +382 -8919 -8918 -8917 -8916 -8915 -8914 -8913 -8912 -8911 -8910 -8909 -8908 -8907 -8906 -8905 -8904 -8903 -8902 -8901 -8900 -8899 -8898 -8897 -8896 -8895 -8894 -8893 -8892 -8891 -8890 -8889 -8888 -8887 -8886 -8885 -8884 -8883 -8882 -8881 -8880 -8879 -8878 -8877 -8876 -8875 -8874 -8873 -8872 -8871 -8870 -8869 -8868 -8867 -8866 -8865 -8864 -8863 -8862 -8861 -8860 -8859 -8858 -8857 -8856 -8855 -8854 -8853 -8852 -8851 -8850 -8849 -8848 -8847 -8846 -8845 -8844 -8843 -8842 -8841 -8840 -8839 -8838 -8837 -8836 -8835 -8834 +8583 +8584 +8585 +8586 +8587 +8588 +8589 +8590 +8591 +8592 +8593 +8594 +8595 +8596 +8597 +8598 +8599 +8600 +8601 +8602 +8603 +8604 +8605 +8606 +8607 +8608 +8609 +8610 +8611 +8612 +8613 +8614 +8615 +8616 +8617 +8618 +8619 +8620 +8621 +8622 +8623 +8624 +8625 +8626 +8627 +8628 +8629 +8630 +8631 +8632 +8633 +8634 +8635 +8636 +8637 +8638 +8639 +8640 +8641 +8642 +8643 +8644 +8645 +8646 +8647 +8648 +8649 +8650 +8651 +8652 +8653 +8654 +8655 +8656 +8657 +8658 +8659 +8660 +8661 +8662 +8663 +8664 +8665 +8666 +8667 +8668 +8669 +8670 +8671 +8672 +8673 +8674 +8675 +8676 +8677 +8678 +8679 +8680 +8681 +8682 +8683 +8684 +8685 +8686 +8687 +8688 +8689 +8690 +8691 +8692 +8693 +8694 +8695 +8696 +8697 +8698 +8699 +8700 +8701 +8702 +8703 +8704 +8705 +8706 +8707 +8708 +8709 +8710 +8711 +8712 +8713 +8714 +8715 +8716 +8717 +8718 +8719 +8720 +8721 +8722 +8723 +8724 +8725 +8726 +8727 +8728 +8729 +8730 +8731 +8732 +8733 +8734 +8735 +8736 +8737 +8738 +8739 +8740 +8741 +8742 +8743 +8744 +8745 +8746 +8747 +8748 +8749 +8750 +8751 +8752 +8753 +8754 +8755 -3743 -3742 -3741 -3740 -3739 -3738 -3737 -3736 -3735 -3734 -3733 -3732 -3731 -3730 -3729 -3728 -3727 -3726 -3725 -3724 -3723 -3722 -3721 -3720 -3719 -3718 -3717 -3716 -3715 -3714 -3713 -3712 -3711 -3710 -3709 -3708 -3707 -3706 -3705 -3704 -3703 -3702 -3701 -3700 -3699 -3698 -3697 -3696 -3695 -3694 -3693 -3692 -3691 -3690 -3689 -3688 -3687 -3686 -3685 -3684 -3683 -3682 -3681 -3680 -3679 -3678 -3677 -3676 -3675 -3674 -3673 -3672 -3671 -3670 -3669 -3668 -3667 -3666 -3665 -3664 -3663 -3662 -3661 -3660 +7703 +7704 +7705 +7706 +7707 +7708 +7709 +7710 +7711 +7712 +7713 +7714 +7715 +7716 +7717 +7718 +7719 +7720 +7721 +7722 +7723 +7724 +7725 +7726 +7727 +7728 +7729 +7730 +7731 +7732 +7733 +7734 +7735 +7736 +7737 +7738 +7739 +7740 +7741 +7742 +7743 +7744 +7745 +7746 +7747 +7748 +7749 +7750 +7751 +7752 +7753 +7754 +7755 +7756 +7757 +7758 +7759 +7760 +7761 +7762 +7763 +7764 +7765 +7766 +7767 +7768 +7769 +7770 +7771 +7772 +7773 +7774 +7775 +7776 +7777 +7778 +7779 +7780 +7781 +7782 +7783 +7784 +7785 +7786 +7787 +7788 +7789 +7790 +7791 +7792 +7793 +7794 +7795 +7796 +7797 +7798 +7799 -3217 -3216 -3215 -3214 -3213 -3212 -3211 -3210 -3209 -3208 -3207 -3206 -3205 -3204 -3203 -3202 -3201 -3200 -3199 -3198 -3197 -3196 -3195 -3194 -3193 -3192 -3191 -3190 -3189 -3188 -3187 -3186 -3185 -3184 -3183 -3182 -3181 -3180 -3179 -3178 -3177 -3176 -3175 -3174 -3173 -3172 -3171 -3170 -3169 -3168 -3167 -3166 -3165 -3164 -3163 -7052 -7051 -7050 -632 -631 -630 -629 -628 -627 -626 -625 -624 -623 -622 -621 -620 -619 -618 -617 -616 -615 -614 -613 +6611 +6612 +6613 +6614 +6615 +6616 +6617 +6618 +6619 +6620 +6621 +6622 +6623 +6624 +6625 +6626 +6627 +6628 +6629 +6630 +6631 +6632 +6633 +6634 +6635 +6636 +6637 +6638 +6639 +6640 +6641 +6642 +6643 +6644 +6645 +6646 +6647 +6648 +6649 +6650 +6651 +6652 +6653 +6654 +6655 +6656 +6657 +6658 +6659 +6660 +6661 +6662 +6663 +6664 +6665 +6666 +6667 +6668 +6669 +6670 +6671 +6672 +6673 +6674 +6675 +6676 +6677 +6678 +6679 +6680 +6681 +6682 +6683 +6684 +6685 +6686 +6687 +6688 +6689 +6690 +6691 +6692 +6693 +6694 +6695 +6696 +6697 +6698 +6699 +6700 +6701 +6702 +6703 +6704 +6705 +6706 +6707 +6708 +6709 +6710 +6711 +6712 +6713 +6714 +6715 +6716 +6717 +6718 +6719 +6720 +6721 +6722 +6723 +6724 +6725 +6726 +6727 +6728 +6729 +6730 +6731 +6732 +6733 +6734 +3638 +3639 +3640 +3641 +3642 +3643 +3644 +3645 +3646 +3647 +3648 +3649 +3650 +3651 +3652 +3653 +3654 +3655 +3656 +3657 +3658 +3659 -7702 -7701 -7700 -7699 -7698 -7697 -7696 -7695 -7694 -7693 -7692 -7691 -7690 -7689 -7688 -7687 -7686 -7685 -7684 -7683 -7682 -7681 -7680 -7679 -7678 -7677 -7676 -7675 -7674 -7673 -7672 -7671 -7670 -7669 +1679 +1680 +1681 +1682 +1683 +1684 +1685 +1686 +1687 +1688 +1689 +1690 +1691 +1692 +1693 +1694 +1695 +1696 +1697 +1698 +1699 +1700 +1701 +1702 +1703 +1704 +1705 +1706 +1707 +1708 +1709 +1710 +1711 +1712 +1713 +1714 +1715 +1716 +1717 +1718 +1719 +1720 +1721 +1722 +1723 +1724 +1725 +1726 +1727 +1728 +1729 +1730 +1731 +1732 +1733 +1734 +1735 +1736 +1737 -2851 -2850 -2849 -2848 -2847 -2846 -2845 -2844 -2843 -2842 -2841 -2840 -2839 -2838 -2837 -2836 -2835 -2834 -2833 -2832 -2831 -2830 -2829 -2828 -2827 -2826 -2825 -2824 -2823 -2822 -2821 -2820 -2819 -2818 -2817 -2816 -2815 -2814 -2813 -2812 -2811 -2810 -2809 -2808 -2807 -2806 -2805 -2804 -2803 -2802 -2801 -2800 -2799 -2798 -2797 -2796 -2795 -2794 -2793 -2792 +4244 +4245 +4246 +4247 +4248 +4249 +4250 +4251 +4252 +4253 +4254 +4255 +4256 +4257 +4258 +4259 +4260 +4261 +4262 +4263 +4264 +4265 +4266 +4267 +4268 +4269 +4270 +4271 +4272 +4273 +4274 +4275 +4276 +4277 +4278 +4279 +4280 +4281 +4282 +4283 +4284 +4285 +4286 +4287 +4288 +4289 +4290 +4291 +4292 +4293 +4294 +4295 +4296 +4297 +4298 +4299 +4300 +4301 +4302 +4303 +4304 +4305 +4306 +4307 +4308 +4309 +4310 +4311 +4312 +4313 +4314 +4315 +4316 +4317 +4318 +4319 +4320 +4321 +4322 +4323 +4324 +4325 +4326 +4327 +4328 +5557 +5558 +5559 +5560 +5561 +5562 +5563 +5564 +5565 +5566 +5567 +5568 +5569 +5570 +5571 +5572 +5573 +5574 +5575 +5576 +5577 +5578 +5579 +5580 +5581 +5582 +5583 +5584 +5585 +5586 +5587 +5588 +5589 +5590 +5591 +5592 +5593 +5594 +5595 +5596 +5597 +5598 +5599 +5600 +5601 +5602 +5603 +5604 +5605 +5606 +5607 +5608 +5609 +2183 +2184 +2185 +2186 +2187 +2188 +2189 +2190 +2191 +2192 +2193 +2194 +2195 +2196 -8083 -8082 -8081 -8080 -8079 -8078 -8077 -8076 -8075 -8074 -8073 -8072 -8071 -8070 -8069 -8068 -8067 -8066 -8065 -8064 -8063 -8062 -8061 -8060 -8059 -8058 -8057 -8056 -8055 -8054 -8053 -8052 -8051 -8050 -8049 -8048 -8047 -8046 -8045 -8044 -8043 -8042 -8041 -8040 -8039 -8038 -8037 -8036 -8035 -8034 -8033 -8032 -8031 -8030 -8029 -8028 -8027 -8026 -8025 -8024 -3293 -3292 -3291 -3290 -3289 -3288 -3287 -3286 -3285 -3284 -3283 -3282 -3281 -3280 -3279 -3278 -3277 -3276 -3275 -3274 -3273 -3272 -3271 -3270 -3269 -3268 -3267 -3266 -3265 -3264 -3263 -3262 -3261 -3260 -3259 -3258 -3257 -3256 -3255 -3254 -3253 -3252 -3251 -3250 -3249 -3248 -3247 -3246 -3245 -3244 -3243 -3242 -3241 -3240 -3239 -3238 -3237 -3236 -3235 -3234 -3233 -3232 -3231 -3230 -3229 -3228 -3227 -3226 -3225 -3224 -3223 -3222 -3221 -3220 -3219 -3218 +7800 +7801 +7802 +7803 +7804 +7805 +7806 +7807 +7808 +7809 +7810 +7811 +7812 +7813 +7814 +7815 +7816 +7817 +7818 +7819 +7820 +7821 +7822 +7823 +7824 +7825 +7826 +7827 +7828 +7829 +7830 +7831 +7832 +7833 +7834 +7835 +7836 +7837 +7838 +7839 +7840 +7841 +7842 +7843 +7844 +7845 +7846 +7847 +7848 +7849 +7850 +7851 +7852 +7853 +7854 +7855 +7856 +7857 +7858 +7859 +7860 +7861 +7862 +7863 +7864 +7865 +7866 +7867 +7868 +7869 +7870 +7871 +7872 +7873 +7874 +7875 +7876 +7877 +7878 +7879 +7880 +7881 +7882 +7883 +7884 +7885 +7886 +7887 +7888 +7889 +7890 +7891 +7892 +7893 +7894 +7895 +7896 +7897 +7898 +7899 +7900 +7901 +7902 +7903 +7904 +7905 +7906 +7907 +7908 +7909 +7910 +7911 +7912 +7913 +7914 +7915 +7916 +7917 +7918 +7919 +7920 +7921 +7922 +7923 +7924 +7925 +7926 +7927 +7928 +7929 +7930 +7931 +7932 +7933 +7934 +7935 +7936 +7937 +7938 +7939 +7940 +7941 +7942 +7943 +7944 +7945 +7946 +7947 +7948 +7949 +7950 +7951 +7952 +7953 +7954 +7955 +7956 +7957 +7958 +7959 +7960 +7961 +7962 +7963 +7964 +7965 +7966 +7967 +7968 +7969 +7970 +7971 +7972 +7973 +7974 +7975 +7976 +7977 +7978 +7979 +7980 +7981 +7982 +7983 +7984 +7985 +7986 +7987 +7988 +7989 +7990 +7991 +7992 +7993 +7994 +7995 +7996 +7997 +7998 +7999 +8000 +8001 +8002 +8003 +8004 +8005 +8006 +8007 +8008 +8009 +8010 +8011 +8012 +8013 +8014 +8015 +8016 +8017 +8018 +8019 +8020 +8021 +8022 +8023 +3294 +3295 +3296 +3297 +3298 +3299 +3300 +3301 +3302 +3303 +3304 +3305 +3306 +3307 +3308 +3309 +3310 +3311 +3312 +3313 +3314 +3315 +3316 +3317 +3318 +3319 +3320 +3321 +3322 +3323 +3324 +3325 +3326 +3327 +3328 +3329 +3330 +3331 +3332 +3333 +3334 +3335 +3336 +3337 +3338 +3339 +3340 +3341 +3342 +3343 +3344 +3345 +3346 +3347 +3348 +3349 +3350 +3351 +3352 +3353 +3354 +3355 +3356 +3357 +3358 +3359 +3360 +3361 +3362 +3363 +3364 +3365 +3366 +3367 +3368 +3369 +3370 +3371 +3372 +3373 +3374 +3375 +3376 +3377 +3378 +3379 +3380 +3381 +3382 +3383 +3384 +3385 +3386 +3387 +3388 +3389 +3390 +3391 +3392 +3393 +3394 +3395 +3396 +3397 +3398 +3399 +3400 +3401 +3402 +3403 +3404 +3405 +3406 +3407 +3408 +3409 +3410 +3940 +3941 +3942 +3943 +3944 +3945 +3946 +3947 +3948 +3949 +3950 +3951 +3952 +3953 +3954 +3955 +3956 +3957 +3958 +3959 +3960 +3961 +4507 +4508 +4509 +4510 +4511 +4512 +4513 +4514 +4515 +4516 +4517 +4518 +4519 +4520 +4521 +4522 +4523 +4524 +4525 +4526 +4527 +4528 +4529 +4530 +4531 +4532 +4533 +4534 +4535 +4536 +4537 +4538 +4539 +4540 +4541 +4542 +4543 +4544 +4545 +4546 +4547 +4548 +4549 +4550 +4551 +4552 +4553 +4554 +4555 +4556 +4557 +4558 +4559 +4560 +4561 +4562 +4563 +4564 +4565 +4566 +4567 +4568 +4569 +4570 +4571 +4572 +4573 +4191 +4192 +4193 +4194 +4195 +4196 +4197 +4198 +4199 +4200 +4201 +4202 +4203 +4204 +4205 +4206 +4207 +4208 +4209 +4210 +4211 +4212 +4213 +4214 +4215 +4216 +4217 +4218 +4219 +4220 +4221 +4222 +4223 +4224 +4225 +4226 +4227 +4228 +4229 +4230 +4231 +4232 +4233 +4234 +4235 +4236 +4237 +4238 +4239 +4240 +4241 +4242 +4243 -2791 -2790 -2789 -2788 -2787 -2786 -2785 -2784 -2783 -2782 -2781 -2780 -2779 -2778 -2777 -2776 -2775 -2774 -2773 -2772 -2771 -2770 -2769 -2768 -2767 -2766 -2765 -2764 -2763 -2762 -2761 -2760 -2759 -2758 -2757 -2756 -2755 -2754 -2753 -2752 -2751 -2750 -2749 -2748 -2747 -2746 -2745 -7179 -7178 -7177 -7176 -7175 -7174 -7173 -7172 -7171 -7170 -7169 -7168 -7167 -7166 -7165 -7164 -7163 -7162 -7161 -7160 -7159 -7158 -7157 -7156 -387 -386 -385 -384 -383 +8920 +8921 +8922 +8923 +8924 +8925 +8926 +8927 +8928 +8929 +8930 +8931 +8932 +8933 +8934 +8935 +8936 +8937 +8938 +8939 +8940 +8941 +8942 +8943 +8944 +8945 +8946 +8947 +8948 +8949 +8950 +8951 +8952 +8953 +8954 +8955 +8956 +8957 +8958 +8959 +8960 +8961 -4695 -4694 -4693 -4692 -4691 -4690 -4689 -4688 -4687 -4686 -4685 -4684 -4683 -4682 -4681 -4680 -4679 -4678 -4677 -4676 -4675 -4674 -4673 -4672 -4671 -4670 -4669 -582 -581 -580 -579 -578 -5755 -5754 -5753 -5752 -5751 -5750 -5749 -5748 -5747 -5746 -5745 -5744 -5743 +6760 +6761 +6762 +6763 +6764 +6765 +6766 +6767 +6768 +6769 +6770 +6771 +6772 +6773 +6774 +1495 +1496 +1497 +1498 +1499 +1500 +1501 +1502 +1503 +1504 +1505 +1506 +1507 +1508 +1509 +1510 +1511 +1512 +1513 +1514 +1515 +1516 +1517 -514 -513 -512 -511 -510 -509 -508 -507 -506 -505 -504 -503 -502 -501 -500 -499 -498 -497 -496 -495 -494 -493 -492 -491 -490 -489 -488 -487 -486 -485 -484 -483 -482 -481 -480 -479 -478 -477 -476 -475 -474 -473 -472 -471 -470 -469 -468 -467 -466 -465 -464 -463 -462 -461 -460 -459 -458 -457 -456 -455 -454 -453 -452 -451 -450 -449 -448 -447 -446 -445 -444 -443 -442 -441 -440 -439 -438 -437 -436 -435 -434 -433 -432 -431 -430 -429 -428 -427 -426 -425 -424 -423 -422 -421 -420 -419 -418 -417 -416 -415 -414 -413 -412 -411 -410 -409 -408 -407 -406 -405 -404 -403 -402 -401 -400 -399 -398 -397 -396 -395 -394 -393 -392 -391 -390 -389 -388 -7155 -7154 -7153 -7152 -7151 -7150 -7149 -7148 -7147 -7146 -7145 -7144 -7143 -7142 -7141 -7140 -7139 -9033 +4171 +4172 +4173 +4174 +4175 +4176 +4177 +4178 +4179 +4180 +4181 +4182 +4183 +4184 +4185 +4186 +4187 +4188 +4189 +4190 +4574 +4575 +4576 +4577 +4578 +4579 +4580 +4581 +4582 +4583 +4584 +4585 +4586 +4587 +4588 +4589 +4590 +4591 +4592 +4593 +4594 +4595 +4596 +4597 +4598 +4599 +4600 +4601 +4602 +4603 +4604 +4605 +4606 +4607 +4608 +4609 +4610 +4611 +4612 +4613 +4614 +4615 +4616 +4617 +4618 +4619 +4620 +4621 +4622 +4623 +4624 +4625 +4626 -3908 -3907 -3906 -3905 -3904 -3903 -3902 -3901 -3900 -3899 -3898 -3897 -3896 -3895 -3894 -3893 -3892 -3891 -3890 -3889 -3888 -3887 -3886 -3885 -3884 -3883 -3882 -3881 -3880 -3879 -3878 -3877 -3876 -3875 -3874 -3873 -3872 -3871 -3870 -3869 -3868 -586 -585 -584 -583 -4668 -4667 -4666 -4665 -4664 -4663 -4662 -4661 -4660 -4659 -4658 -4657 -4656 -4655 -4654 -4653 -4652 -4651 -4650 -4649 -4648 -4647 -4646 -4645 -4644 -4643 -4642 -4641 -4640 -4639 -4638 -4637 -4636 -4635 -4634 -4633 -4632 -4631 -4630 -4629 -4628 -4627 +3909 +3910 +3911 +3912 +3913 +3914 +3915 +3916 +3917 +3918 +3919 +3920 +3921 +3922 +3923 +3924 +3925 +3926 +3927 +3928 +3929 +3930 +3931 +3932 +3933 +3934 +3935 +3936 +3937 +3938 +3939 +3411 +3412 +3413 +3414 +3415 +3416 +3417 +3418 +3419 +3420 +3421 +3422 +3423 +3424 +3425 +3426 +3427 +3428 +3429 +3430 +3431 +3432 +3433 +3434 +3435 +3436 +3437 +3438 +3439 +3440 +3441 +3442 +3443 +3444 +3445 +3446 +3447 +3448 +3449 +3450 +3451 +3452 +3453 +3454 +3455 +3456 +3457 +3458 +3459 +3460 +3461 +3462 +3463 +3464 +3465 +3466 +3467 +3468 +3469 +3470 +3471 +3472 +3473 +3474 +3475 +3476 +3477 +3478 +3479 +3480 +3481 +3482 +3483 +3484 +3485 +3486 +3487 +3488 +3489 +3490 +3491 +3492 +3493 +3494 +3495 +3496 +3497 +3498 +3499 +3500 +3501 +3502 +3503 +3504 +3505 +3506 +3507 +3508 +3509 +3510 +3511 +3512 +3513 +3514 +3515 +3516 +3517 +3518 +3519 +3520 +3521 +3522 +3523 +3524 +3525 +3526 +3527 +3528 +3529 +3530 +3531 +3532 +3533 +3534 +3535 +3536 +3537 +3538 +3539 +3540 +3541 +3542 +3543 +3544 +3545 +3546 +3547 +3548 +3549 +3550 +3551 +3552 +3553 +3554 +3555 +3556 +3557 +3558 +3559 +3560 +3561 +3562 +3563 +3564 +3565 +3566 +3567 +3568 +3569 +3570 +3571 +3572 +3573 +3574 +3575 +3576 +3577 +3578 +3579 +3580 +3581 +3582 +3583 +3584 +3585 +3586 +3587 +3588 +3589 +3590 +3591 +3592 +3593 +3594 +3595 +3596 +3597 +3598 +3599 +3600 +3601 +3602 +3603 +3604 +3605 +3606 +3607 +3608 +3609 +3610 +3611 +3612 +3613 +3614 +3615 +3616 +3617 +3618 +3619 +3620 +3621 +3622 +3623 +3624 +3625 +3626 +3627 +3628 +3629 +3630 +3631 +3632 +3633 +3634 +3635 +3636 +3637 +6735 +6736 +6737 +6738 +6739 +6740 +6741 +6742 +6743 +6744 +6745 +6746 +6747 +6748 +6749 +6750 +6751 +6752 +6753 +6754 +6755 +6756 +6757 +6758 +6759 -5742 -5741 -5740 -5739 -5738 -5737 -374 -373 -372 -371 -370 -369 -368 -367 -366 -365 -364 -363 -362 -4141 -4140 -4139 -4138 -4137 -4136 -4135 -4134 -4133 -4132 -4131 -4130 -4129 -4128 -4127 -4126 -4125 -4124 -4123 -4122 -4121 -4120 -4119 -4118 -4117 -4116 -4115 -4114 -4113 -4112 -4111 -4110 -4109 -4108 -4107 -4106 -4105 -4104 -4103 -4102 -4101 -4100 -4099 -4098 -4097 -4096 -4095 -4094 -4093 -4092 -4091 -4090 -4089 -4088 -4087 -4086 -4085 -4084 -4083 -4082 -4081 -4080 -4079 -4078 -4077 -4076 -4075 -4074 -4073 -4072 -4071 -4070 -4069 -4068 -4067 -4066 -4065 -4064 -4063 -4062 -4061 -4060 -4059 -4058 -4057 -4056 -4055 -4054 -4053 -4052 -4051 -4050 -4049 -4048 -4047 +955 +956 +957 +958 +959 +960 +961 +962 +963 +964 +965 +966 +967 +968 +969 +970 +971 +972 +973 +974 +975 +976 +977 +978 +979 +980 +981 +982 +983 +984 +985 +986 +987 +988 +989 +990 +991 +992 +993 +994 +995 +996 +997 +998 +999 +1000 +1001 +1002 +1003 +1004 +1005 +1006 +1007 +1008 +1009 +1010 +1011 +1012 +1013 +1014 +1015 +1016 +1017 +1018 +1019 +1020 +1021 +1022 +1023 +1024 +1025 +1026 +1027 +1028 +1029 +1030 +1031 +1032 +1033 +1034 +1035 +1036 +1037 +1038 +1039 +1040 +1041 +1042 +1043 +1044 +1045 +1046 +1047 +1048 +1049 +1050 +1051 +1052 +1053 +1054 +1055 +1056 +1057 +1058 +1059 +1060 +1061 +1062 -5434 -5433 +2972 +2973 +2974 +2975 +2976 +2977 +2978 +2979 +2980 +2981 +2982 +2983 +2984 +2985 +2986 +2987 +2988 +2989 +2990 +2991 +2992 +2993 +2994 +2995 +2996 +2997 +2998 +2999 +3000 +3001 +3002 +3003 +3004 +3005 +3006 +3007 +3008 +3009 +3010 +3011 +3012 +3013 +3014 +3015 +3016 +3017 +3018 +3019 +3020 +3021 +3022 +3023 +3024 +3025 +3026 +3027 +3028 +3029 +3030 +3031 +3032 +3033 +3034 +3035 +3036 +3037 +3038 +3039 +3040 +3041 +3042 +3043 +3044 +3045 +3046 +3047 +3048 +3049 +3050 +3051 +3052 +3053 +3054 +3055 +3056 +3057 +3058 +3059 +3060 +3061 +3062 +3063 +3064 +3065 +3066 +3067 +3068 +3069 +3070 +3071 +3072 +3073 +3074 +3075 +3076 +3077 +3078 +3079 +3080 +3081 +3082 +3083 +3084 +3085 +3086 +3087 +3088 +3089 +3090 +3091 +3092 +3093 +3094 +3095 +3096 +3097 +3098 +3099 +3100 +3101 +3102 +3103 +3104 +3105 +3106 +3107 +3108 +3109 +3110 +3111 +3112 +3113 +3114 +3115 +3116 +3117 +3118 +3119 +3120 +3121 +3122 +3123 +3124 +3125 +3126 +3127 +3128 +3129 +3130 -1101 -1100 -1099 -1098 -1097 -1096 -1095 -1094 -1093 -1092 -1091 -1090 -1089 -1088 -1087 -1086 -1085 -1084 -1083 -1082 -1081 -1080 -1079 -1078 -1077 -1076 -1075 -1074 -1073 -1072 -1071 -1070 -1069 -1068 -1067 -1066 -1065 -1064 -1063 +5435 +5436 +5437 +5438 +5439 +5440 +5441 +5442 +5443 +5444 +5445 +5446 +5447 +5448 +5449 +5450 +5451 +5452 +5453 +5454 +5455 +5456 +5457 +5458 +5459 +5460 +5461 +5462 +5463 +5464 +5465 +5466 +5467 +5468 +5469 +5470 +5471 +5472 +5473 +5474 +5475 +5476 +5477 +5478 +5479 +5480 +5481 +5482 +5483 +5484 +5485 +5486 +5487 +5488 +5489 +5490 +5491 -2916 -2915 -2914 -2913 -2912 -2911 -2910 -2909 -2908 -2907 -2906 -2905 -2904 -2903 -2902 -2901 -2900 -2899 -2898 -2897 -2896 -2895 -2894 -2893 -2892 -2891 -2890 -2889 -2888 -2887 -2886 -2885 -2884 -2883 -2882 -2881 -2880 -2879 -2878 -2877 -2876 -2875 -2874 -2873 -2872 -2871 -2870 -2869 -2868 -2867 -2866 -2865 -2864 -2863 -2862 -2861 -2860 -2859 -2858 -2857 -2856 -2855 -2854 -2853 -2852 +1738 +1739 +1740 +1741 +1742 +1743 +1744 +1745 +1746 +1747 +1748 +1749 +1750 +1751 +1752 +1753 +1754 +1755 +1756 +1757 +1758 +1759 +1760 +1761 +1762 +1763 +1764 +1765 +1766 +1767 +1768 +1769 +1770 +1771 +1772 +1773 +1774 +1775 +1776 +1777 +1778 +1779 +1780 +1781 +1782 +1783 +1784 +1785 +1786 +1787 +1788 +1789 +1790 +1791 +1792 +1793 +1794 +1795 +1796 +1797 +1798 +1799 +1800 +1801 +1802 +1803 +1804 +1805 +1806 +1807 +1808 +1809 +1810 +1811 +1812 +1813 +1814 +1815 +1816 +1817 +1818 +1819 +1820 +1821 +1822 +1823 +1824 +1825 +1826 +1827 +1828 +1829 +1830 +1831 +1832 +1833 +1834 +1835 +1836 +1837 +1838 +5640 +5641 +5642 +5643 +5644 +5645 +5646 +5647 +5648 +5649 +5650 +5651 +5652 +5653 +5654 +5655 +5656 +5657 +5658 +5659 +5660 +5661 +5662 +5663 +5664 +5665 +5666 +5667 +5668 +5669 +5670 +5671 +5672 +5673 +5674 +5675 +5676 +5677 +5678 +5679 +5680 +5681 +5682 +5683 +5684 +5685 +5686 +5687 +5688 +5689 +5690 +5691 +5692 +5693 +5694 +5695 +5696 +5697 +5698 +5699 +5700 +5701 +5702 +5703 +5704 +5705 +5706 +5707 +5708 +5709 +5710 +5711 +5712 +5713 +5714 +5715 +5716 +5717 +5718 +5719 +5720 +5721 +8816 +8817 +8818 +8819 +8820 +8821 +8822 +8823 +8824 +8825 +8826 +8827 +8828 +8829 +8830 +8831 +8832 +8833 -8582 -8581 -8580 -8579 -8578 -8577 -8576 -8575 -8574 -8573 -8572 -8571 -8570 -8569 -8568 -8567 -8566 -8565 -8564 -8563 -8562 -8561 -51 -50 -49 -48 -47 -46 -45 -44 -43 -42 -41 -40 -39 -38 -37 -36 -35 -34 -33 -32 -31 -30 -29 -28 -27 -26 -25 -24 -23 -22 -21 -20 -19 -18 -17 -16 -1859 -1858 -1857 -1856 -1855 -1854 -1853 -1852 -1851 -1850 -1849 -1848 -1847 -1846 -1845 -1844 -1843 -1842 -1841 -1840 -1839 -5639 -5638 -5637 -5636 -5635 -5634 -5633 -5632 -5631 -5630 -5629 -5628 -5627 -5626 -5625 -5624 -5623 -5622 -5621 -5620 -5619 +1209 +1210 +1211 +1212 +1213 +1214 +1215 +1216 +1217 +1218 +1219 +1220 +1221 +1222 +1223 +1224 +1225 +1226 +1227 +1228 +1229 +1230 +1231 +1232 +1233 +1234 +1235 +1236 +1237 +1238 +1239 +1240 +1241 +1242 +1243 +1244 +1245 +1246 +1247 +1248 +1249 +1250 +1251 +1252 +1253 +1254 +1255 +1256 +1257 +1258 +1259 +1260 +1261 +1262 +1263 +1264 +1265 +1266 +1267 +1268 +1269 +1270 +1271 +1272 +1273 +1274 +1275 +1276 +1277 +1278 +1279 +1280 +1281 +1282 +1283 +1284 +1285 +1286 +1287 +1288 +1289 +1290 +1291 +1292 +1293 +1294 +1295 +1296 +1297 +1298 +1299 +1300 +1301 +1302 +1303 +1304 +1305 +1306 +1307 +1308 +1309 +1310 +1311 +1312 -5083 -5082 -5081 -5080 -5079 -5078 -5077 -5076 -5075 -5074 -5073 -5072 -5071 -5070 -5069 -5068 -5067 -2015 -2014 -2013 -2012 -2011 -2010 -2009 -2008 -2007 -2006 -2005 -2004 -2003 -2002 -2001 -2000 -1999 -1998 -1997 -1996 -1995 -1994 -1993 -1992 -1991 -1990 -1989 -1988 -1987 -1986 -1985 -1984 -1983 -1982 -1981 -1980 -1979 -1978 -1977 -1976 -1975 -1974 -1973 -1972 -1971 -1970 -1969 -1968 -1967 -1966 -1965 -1964 -1963 -1962 -1961 -1960 -1959 -1958 -1957 -1956 -1955 -1954 -1953 -1952 -1951 -1950 +148 +149 +150 +151 +152 +153 +154 +155 +156 +157 +158 +159 +160 +161 +162 +163 +164 +165 +166 +167 +168 +169 +170 +171 +172 +173 +174 +175 +176 +177 +178 +179 +180 +181 +182 +183 -5399 -5398 -5397 -5396 -5395 -5394 -5393 -5392 -5391 -5390 -5389 -5388 -5387 -5386 -5385 -5384 -5383 -5382 -5381 -5380 -5379 -5378 -5377 +2304 +2305 +2306 +2307 +2308 +2309 +2310 +2311 +2312 +2313 +2314 +2315 +2316 +2317 +2318 +2319 +2320 +2321 +2322 +2323 +2324 +2325 +2326 +2327 +2328 +2329 +2330 +2331 +2332 +2333 +2334 +2335 +2336 +2337 +2338 +2339 +2340 +2341 +2342 +2343 +2344 +2345 +2346 +2347 +2348 +2349 +2350 +2351 +2352 +2353 +2354 +2355 +2356 +2357 +2358 +2359 +2360 +2361 +2362 +2363 +2364 +2365 +2366 +2367 +2368 +2369 +2370 +2371 +2372 -6980 -6979 -6978 -6977 -6976 -6975 +686 +687 +688 +689 +690 +691 +1401 +1402 +1403 +1404 +1405 +1406 +1407 +1408 +1409 +1410 +1411 +1412 +1413 +1414 +1415 +2498 +2499 +2500 +2501 +2502 +2503 +2504 +2505 +2506 +2507 +2508 +2509 +2510 +2511 +2512 +2513 +2514 +2515 +2516 +2517 +2518 +2519 +2520 +2521 +2522 +2523 +2524 +2525 +2526 +2527 +2528 +2529 +2530 +2531 +2532 +2533 +2534 +2535 +2536 +2537 +2538 +2539 +2540 +2541 +2542 +2543 +2544 +2545 +2546 +2547 +2548 +2549 +2550 +2551 +2552 +2553 +2554 +2555 +2556 +8101 +8102 +8103 +8104 +8105 +8106 +8107 +8108 +8109 +8110 +8111 +8112 +8113 +8114 +8115 +8116 +8117 +8118 +8119 +8120 +8121 +8122 +8123 +8124 +8125 +8126 +8127 +8128 +8129 +8130 +8131 +8132 +8133 +8134 +8135 +8136 +8137 +8138 +8139 +8140 +8141 +8142 +8143 +8144 +8145 +8146 +8147 +8148 +8149 +8150 +8151 +8152 +8153 +8154 +8155 +8156 +8157 +8158 +8159 +8160 +8161 +8162 +8163 +8164 +8165 +8166 +8167 +8168 +8169 +8170 +8171 +8172 +8173 +8174 +8175 +8176 +8177 +8178 +8179 +8180 +8181 +8182 +8183 +8184 +8185 +8186 +8187 +8188 +8189 +8190 +8191 +8192 +8193 +8194 +8195 +8196 +8197 +8198 +8199 +8200 +8201 +8202 +8203 +8204 +8205 +8206 +8207 +8208 +8209 +8210 +8211 +8212 +8213 +8214 +8215 +8216 +8217 +8218 +8219 +8220 +8221 +8222 +8223 +8224 +8225 +8226 +8227 +8228 +8229 +8230 +8231 +8232 +8233 +8234 +8235 +8236 +8237 +8238 +8239 +8240 +8241 +8242 +8243 +8244 +8245 +8246 +8247 +8248 +8249 +8250 +8251 +8252 +8253 +8254 +8255 +8256 +8257 +8258 +8259 +8260 +8261 +8262 +8263 +8264 +8265 +8266 +8267 +8268 +8269 +8270 +8271 +8272 +8273 +8274 +8275 +8276 +8277 +8278 +8279 +8280 +8281 +8282 +8283 +8284 +8285 +8286 +8287 +8288 +8289 +8290 +8291 +8292 +8293 +8294 +8295 +8296 +8297 +8298 +8299 +8300 +8301 +8302 +8303 +8304 +8305 +8306 +8307 +8308 +8309 +8310 +8311 +8312 -6876 -6875 -6874 -6873 -6872 -6871 -6870 -6869 -6868 -6867 -6866 +1337 +1338 +1339 +1340 +1341 +1342 +1343 +1344 +1345 +1346 +1347 +1348 +1349 +1350 +1351 +1352 +1353 +1354 +1355 +1356 +1357 +1358 +1359 +1360 +1361 +1362 +1363 +1364 +1365 +1366 +1367 +1368 +1369 +1370 +1371 +1372 +1373 +1374 +1375 +1376 +1377 +1378 +1379 +1380 +1381 +1382 +1383 +1384 +1385 +1386 +1387 +1388 +1389 +1390 +1391 +1392 +1393 +1394 +1395 +1396 +1397 +1398 +1399 +1400 +692 +693 +694 +695 +696 +697 +698 +699 +700 +701 +702 +703 +704 +705 +706 +707 +708 +709 +710 +711 +712 +713 +714 +715 +716 +717 +718 +719 +720 +721 +722 +723 +724 +725 +726 +727 +728 +729 +730 +731 +732 +733 +734 +735 +736 +737 +738 +739 +740 +741 +742 +743 -3842 -3841 -3840 -3839 -3838 -3837 -3836 -3835 -3834 -3833 -3832 -3831 -3830 -3829 -3828 -3827 -3826 -3825 -3824 -3823 -3822 -3821 -3820 -3819 -3818 -3817 -3816 -3815 -3814 -3813 -3812 -3811 -3810 -3809 -3808 -3807 -3806 -3805 -3804 -3803 -854 -853 -852 -851 -850 -849 -848 -847 -846 -845 -844 -843 -842 -841 -840 -839 -838 -837 -836 -835 -834 -833 -832 -831 -830 -829 -828 -827 -826 -825 -824 -823 -822 -821 -820 -819 -818 -817 -816 -815 -814 -813 -812 -811 -810 -809 -808 -807 -806 -805 -804 -803 -802 -801 -800 -799 -798 -797 -796 -795 -794 -793 -792 -791 -790 -789 -788 -787 -786 -785 -784 -783 -782 -781 -780 -779 -778 -777 -776 -775 -774 -773 -772 -771 -770 -769 -768 -767 -766 -765 -764 -763 -762 -761 -760 -759 -758 -757 -756 -755 -754 -753 -752 -751 -750 -749 -748 -747 -746 -745 -744 +3843 +3844 +3845 +3846 +3847 +3848 +3849 +3850 +3851 +3852 +3853 +3854 +3855 +3856 +3857 +3858 +3859 +3860 +3861 +3862 +3863 +3864 +3865 +3866 +3867 +587 +588 +589 +590 +591 +592 +593 -6439 -6438 -6437 -6436 -6435 -6434 -6433 -6432 -6431 -6430 -6429 -6428 -6427 -6426 -6425 -6424 -6423 -6422 -6421 -6420 -6419 -6418 -6417 -6416 -6415 -6414 -6413 -6412 -6411 -6410 -6409 -6408 -6407 -6406 -6405 -6404 -6403 -6402 -6401 -6400 -6399 -6398 -6397 -6396 -6395 -6394 -6393 -6392 -6391 -6390 -6389 -6388 -6387 -6386 -6385 -6384 -6383 -6382 -6381 -6380 -6379 -6378 -6377 -6376 -6375 -6374 -6373 -6372 -6371 -6370 -6369 -6368 -6367 -6366 -6365 -6364 -6363 -6362 -6361 -6360 -6359 -6358 -6357 -6356 -6355 -6354 -6353 -6352 -6351 -6350 -6349 -6348 -6347 -6346 -6345 -6344 -6343 -6342 -6341 -6340 -6339 -6338 -6337 -6336 -6335 -6334 -6333 -6332 -6331 -6330 -6329 -6328 -6327 +1170 +1171 +1172 +1173 +1174 +1175 +1176 +1177 +1178 +1179 +1180 +1181 +1182 +1183 +1184 +1185 +1186 +1187 +1188 +1189 +1190 +1191 +1192 +1193 +1194 +1195 +1196 +1197 +1198 +1199 +1200 +1201 +1202 +1203 +1204 +1205 +1206 +1207 +1208 -5618 -5617 -5616 -5615 -5614 -5613 -5612 -5611 -5610 -2182 -2181 -2180 -2179 -2178 -2177 -2176 -2175 -2174 -2173 -2172 -2171 -2170 -2169 -2168 -2167 -2166 -2165 -2164 -2163 -2162 -2161 -2160 -2159 -2158 -2157 -2156 -2155 -2154 -2153 -2152 -2151 -2150 -2149 -2148 -2147 -2146 -2145 -2144 -2143 -2142 -2141 -2140 -2139 -2138 -2137 -2136 -2135 -2134 -2133 -2132 -2131 -2130 -2129 -2128 -2127 -2126 -2125 -2124 -2123 -2122 -2121 -2120 -2119 -2118 -2117 -2116 -2115 -2114 -2113 -2112 -2111 -2110 -2109 -2108 -2107 -2106 -2105 -2104 -2103 -2102 -2101 -2100 -2099 -2098 -2097 -2096 -2095 -2094 -2093 -2092 -2091 -2090 -2089 -2088 -2087 -2086 -2085 -2084 -2083 -2082 -2081 -2080 -2079 -2078 -2077 -2076 -2075 -2074 -2073 -2072 -2071 -2070 -2069 -2068 -2067 -2066 -2065 -2064 -2063 -2062 -2061 -2060 -2059 -2058 -2057 -2056 -2055 -2054 -2053 -2052 -2051 -2050 -2049 -2048 -2047 -2046 -2045 -2044 -2043 -2042 -2041 -2040 -2039 -2038 -2037 -2036 -2035 -2034 -2033 -2032 -2031 -2030 -2029 -2028 -2027 -2026 -2025 -2024 -2023 -2022 -2021 -2020 -2019 -2018 -2017 -2016 -5066 -5065 -5064 -5063 -5062 -5061 -5060 -5059 -5058 -5057 -5056 -5055 -5054 -5053 -5052 -5051 -5050 -5049 -5048 -5047 -5046 -5045 -5044 -5043 -5042 -5041 -5040 -5039 -5038 -5037 -5036 -5035 -5034 -5033 -5032 -5031 -5030 -5029 -5028 -5027 -5026 -5025 -5024 -5023 -5022 -5021 -5020 -5019 -5018 -5017 -5016 -5015 -5014 -5013 -5012 -5011 -5010 -5009 -5008 -5007 -5006 -5005 -5004 -5003 -5002 -5001 -5000 -4999 -4998 -4997 -4996 -4995 -4994 -4993 -4992 -4991 -4990 -4989 -4988 -4987 -4986 -4985 -4984 -4983 -4982 -4981 -4980 -4979 -4978 -4977 -4976 -4975 -4974 -4973 -4972 -4971 -4970 -4969 -4968 -4967 -4966 -4965 -4964 -4963 -4962 -4961 -4960 -4959 -4958 -4957 -4956 -4955 -4954 -4953 -4952 -9193 -9192 -9191 -9190 -9189 -9188 -9187 -9186 -9185 -9184 -9183 -9182 -9181 -9180 -9179 -9178 -9177 -9176 -9175 -9174 -9173 -9172 -9171 -9170 -9169 -9168 -9167 -9166 -9165 -9164 -9163 -8537 -8536 -8535 -8534 -8533 -8532 -8531 -8530 -8529 -8528 -8527 -8526 -8525 -8524 -8523 +9236 +9237 +9238 +9239 +9240 +9241 +9242 +9243 +9244 +9245 +9246 +9247 +9248 +9249 +9250 +9251 +9252 +9253 +9254 +9255 +9256 +9257 +9258 +9259 +9260 +9261 +9262 +9263 +9264 +9265 +9266 +9267 -248 -247 -246 -245 -244 -243 -242 -241 -240 -239 -238 -237 -236 -235 -234 -233 -232 -231 -230 -229 -228 -227 -226 -225 -224 -223 -222 -221 -220 -219 -218 -217 -216 -215 -214 -213 -212 -211 -210 -209 -208 -207 -206 -205 -204 -203 -202 -201 -200 -199 -198 -197 -196 -195 -194 -193 -192 -191 -190 -189 -188 -187 -186 -185 -184 +5400 +5401 +5402 +5403 +5404 +5405 +5406 +5407 +5408 +5409 +5410 +5411 +5412 +5413 +5414 +5415 +5416 +5417 +5418 +5419 +5420 +5421 +5422 +5423 +5424 +5425 +5426 +5427 +5428 +5429 +5430 +5431 +5432 -2971 -2970 -2969 -2968 -2967 -2966 -2965 -2964 -2963 -8331 -8330 -8329 -8328 -8327 -8326 -8325 -8324 -8323 -8322 -8321 -8320 -8319 -8318 -8317 -8316 -8315 -8314 -8313 +6877 +6878 +6879 +6880 +6881 +6882 +6883 +6884 +6885 +6886 +6887 +6888 +6889 +6890 +6891 +6892 +6893 +6894 +6895 +6896 +6897 +6898 +6899 +6900 +6901 +6902 +6903 +6904 +6905 +6906 +6907 +6908 +6909 +6910 +6911 +6912 +6913 +6914 +6915 +6916 +6917 +6918 +6919 +6920 +6921 +6922 +6923 +6924 +6925 +6926 +6927 +6928 +6929 +6930 +6931 +6932 +6933 +6934 +6935 +6936 +6937 +6938 +6939 +6940 +6941 +6942 +6943 +6944 +6945 +6946 +6947 +6948 +6949 +6950 +6951 +6952 +6953 +6954 +6955 +6956 +6957 +6958 +6959 +6960 +6961 +6962 +6963 +6964 +6965 +6966 +6967 +6968 +6969 +6970 +6971 +6972 +6973 +6974 -685 -684 -683 -682 -681 -680 -679 -678 -677 -676 -675 -674 -673 -672 -671 -670 -669 -668 -667 -666 -665 -664 -663 -662 -661 -660 -659 -658 -657 -656 -655 -654 -653 -652 -651 -650 -649 -648 -647 -646 -645 -644 -643 -642 -641 -640 -639 -638 -637 -636 -635 -634 -633 -7049 -7048 -7047 -7046 -7045 -7044 -7043 -7042 -7041 -7040 -7039 -7038 -7037 -7036 -7035 -7034 -7033 -7032 -7031 -7030 -7029 -7028 +5976 +5977 +5978 +5979 +5980 +5981 +5982 +5983 +5984 +5985 +5986 +5987 +5988 +5989 +5990 +5991 +5992 +5993 +5994 +5995 +5996 +5997 +5998 +5999 +6000 +6001 +6002 +6003 +6004 +6005 +6006 +6007 +6008 +6009 +6010 +6011 +6012 +6013 +6014 +6015 +6016 +6017 +6018 +6019 +6020 +6021 +6022 +6023 +6024 +6025 +6026 +6027 +6028 +6029 +6030 +6031 +6032 +6033 +6034 +6035 +6036 +6037 +6038 +6039 +6040 +6041 +6042 +6043 +6044 +6045 +6046 +6047 +6048 +6049 +6050 +6051 +6052 +6053 +6054 +6055 +6056 +6057 +6058 +6059 +6060 +6061 +6062 +6063 +6064 +6065 +6066 +6067 +6068 +6069 +6070 +6071 +6072 +6073 +6074 +6075 +6076 +6077 +6078 +6079 +6080 +6081 +6082 +6083 +6084 +6085 +6086 +6087 +6088 +6089 +6090 +6091 +6092 +6093 +6094 +6095 +6096 +6097 +6098 +6099 +6100 +6101 +6102 +6103 +6104 +6105 +6106 +6107 +6108 +6109 +6110 +6111 +6112 +6113 +6114 +6115 +6116 +6117 +6118 +6119 -5799 -5798 -5797 -5796 -5795 -5794 -5793 -5792 -5791 -5790 -5789 -5788 -5787 -5786 -5785 -5784 -5783 -5782 -5781 -5780 -5779 -5778 -5777 -5776 -5775 -5774 -5773 -5772 -5771 -5770 -5769 -5768 -5767 -5766 -5765 -5764 -5763 -5762 -5761 -5760 -5759 -5758 -5757 -5756 -577 -576 -575 -574 -573 -572 -571 -570 -569 -568 -567 -566 -565 -564 -563 -562 -561 -560 -559 -558 -557 -556 -555 -554 -553 -552 -551 -550 -549 -548 -547 -546 -545 -544 -543 -542 -541 -540 -539 -538 -537 -536 -535 -534 -533 -532 -531 -530 -529 -528 -527 -526 -525 -524 -523 -522 -521 -520 -519 -518 -517 -516 -515 +1518 +1519 +1520 +1521 +4467 +4468 +4469 +4470 +4471 +4472 +4473 +4474 +4475 +4476 +4477 +4478 +4479 +4480 +4481 +4482 +4483 +4484 +4485 +4486 +4487 +4488 +4489 +4490 +4491 +4492 +4493 +4494 +4495 +4496 +4497 +4498 +4499 +4500 +4501 +4502 +4503 +4504 -7205 -7204 -7203 -7202 -7201 -7200 -7199 -7198 -7197 -7196 -7195 -7194 -7193 -7192 -7191 -7190 -7189 -7188 -7187 -7186 -7185 -7184 -7183 -7182 -7181 -7180 -2744 -2743 -2742 -2741 -2740 -2739 -2738 -2737 -2736 -2735 -2734 -2733 -2732 -2731 -2730 -2729 -2728 -2727 -2726 -2725 -2724 -2723 -2722 -2721 -2720 -2719 -2718 -2717 -2716 -2715 -2714 -2713 -2712 -2711 -2710 -2709 -2708 -2707 -2706 -2705 -2704 -2703 -2702 -2701 -2700 -2699 -2698 -2697 -2696 -2695 -2694 -2693 -4855 +7496 +7497 +7498 +7499 +7500 +7501 +7502 +7503 +7504 +7505 +7506 +7507 +7508 +7509 +7510 +7511 +7512 +7513 +7514 +7515 +7516 +7517 +7518 +7519 +7520 +7521 +7522 +7523 +7524 +7525 +7526 +7527 +7528 +7529 +7530 +7531 +7532 +7533 +7534 +7535 +7536 +7537 +7538 +7539 +7540 +7541 +7542 +7543 +7544 +7545 +7546 +7547 +7548 +7549 +7550 +7551 +7552 +7553 +7554 +7555 +7556 +7557 +7558 +7559 +7560 +7561 +7562 +7563 +7564 +7565 +7566 +7567 +7568 +7569 +7570 +7571 +7572 +7573 +7574 +7575 +7576 +7577 +7578 +7579 +7580 +7581 +7582 +7583 +7584 +7585 +7586 +7587 +7588 +7589 +7590 +7591 +7592 +7593 +7594 +7595 +7596 +7597 +7598 +7599 +7600 +7601 +7602 +7603 +7604 +7605 +7606 +7607 +7608 +7609 +7610 +7611 +7612 +7613 +7614 +7615 +7616 +7617 +7618 +7619 +7620 +7621 +7622 +7623 +7624 +7625 +7626 +7627 +7628 +7629 +7630 +7631 +7632 +7633 +7634 +7635 +7636 +7637 +7638 -9097 -9096 -9095 -9094 -9093 -9092 -9091 -9090 -9089 -9088 -9087 -9086 -9085 -9084 -9083 -9082 -9081 -9080 -9079 -9078 -9077 -9076 -9075 -9074 -9073 -9072 -9071 -9070 -9069 -9068 -9067 -9066 -9065 -9064 -9063 -9062 -9061 -9060 -9059 -9058 -9057 -9056 -9055 -9054 -9053 -9052 -9051 -9050 -9049 -9048 -9047 -9046 -9045 -9044 -9043 -9042 -9041 -9040 -9039 -9038 -9037 -9036 -9035 -9034 -7138 -7137 -7136 -7135 -7134 -7133 -7132 -7131 -7130 -7129 -7128 -7127 -7126 -7125 -7124 -7123 -7122 -7121 -7120 -7119 -7118 -7117 -7116 -7115 -7114 -7113 -7112 -7111 -7110 -7109 -7108 -7107 -7106 -7105 -7104 -7103 -7102 -7101 -7100 -7099 -7098 -7097 -7096 -7095 -7094 -7093 -7092 -7091 -7090 -7089 -7088 -7087 -7086 -7085 -7084 -7083 -7082 -7081 -7080 -7079 -7078 -7077 -7076 -7075 -7074 -7073 -7072 -7071 -7070 -7069 -7068 -7067 -7066 -7065 -7064 -7063 -7062 -7061 -7060 -7059 -7058 -7057 -7056 -7055 -7054 -7053 -3162 -3161 -3160 -3159 -3158 -3157 -3156 -3155 -3154 -3153 -3152 -3151 -3150 -3149 -3148 -3147 -3146 -3145 -3144 -3143 -3142 -3141 -3140 -3139 -3138 -3137 -3136 -3135 -3134 -3133 -3132 -3131 +1102 +1103 +1104 +1105 +1106 +1107 +1108 +1109 +1110 +1111 +1112 +1113 +1114 +1115 +1116 +1117 +1118 +1119 +1532 +1533 +1534 +1535 +1536 +1537 +1538 +1539 +1540 +1541 +1542 +1543 +1544 +1545 +1546 +1547 +1548 +1549 +1550 +1551 +1552 +1553 +1554 +1555 +1556 +1557 +1558 +1559 +1560 +1561 +1562 +1563 +1564 +1565 +1566 +1567 +1568 +1569 +1570 +1571 +1572 +1573 +1574 +1575 +1576 +1577 +1578 +1579 +1580 +1581 +1582 +1583 +1584 +1585 +1586 +1587 +1588 +1589 +1590 +1591 +1592 +1593 +1594 +1595 +1596 +1597 +1598 +1599 +1600 +1601 +1602 +1603 +1604 +1605 +1606 +1607 +1608 +1609 +1610 +7311 +7312 +7313 +7314 +7315 +7316 +7317 +7318 +7319 +7320 +7321 +7322 +7323 +7324 +7481 +7482 +7483 +7484 +7485 +7486 +7487 +7488 +7489 +7490 +7491 +7492 -2953 -2952 -2951 -2950 -2949 -2948 -2947 -2946 -2945 -2944 -2943 -2942 -2941 -2940 -2939 -2938 -2937 -2936 -2935 -2934 -2933 -2932 -2931 -2930 -2929 -2928 -2927 +5099 +5100 +5101 +5102 +5103 +5104 +5105 +5106 +5107 +5108 +5109 +5110 +5111 +5112 +5113 +5114 +5115 +5116 +5117 +5118 +5119 +5120 +5121 +5122 +5123 +5124 +5125 +5126 +5127 +5128 +5129 +5130 +5131 +5132 +5133 +5134 +5135 +5136 +5137 +5138 +5139 +5140 +5141 +5142 +5143 +5144 +5145 +5146 +5147 +5148 +5149 +5150 +5151 +5152 +5153 +5154 +5155 +5156 +5157 +5158 +5159 +5160 +5161 +5162 +5163 +5164 +5165 +5166 +5167 +5168 +5169 +5170 +5171 +5172 +5173 +5174 +5175 +5176 +5177 +5178 +5179 +5180 +5181 +5182 +5183 +5184 +5185 +5186 +5187 +5188 +5189 +5190 +5191 +5192 +5193 +5194 +5195 +5196 +5197 +5198 +5199 +5200 +5201 +5202 +5203 +5204 +5205 +5206 +5207 +5208 -5320 -5319 -5318 -5317 -5316 -5315 -5314 -5313 -5312 -5311 -5310 -5309 -5308 -5307 -5306 -5305 -5304 -5303 -5302 -5301 -5300 -5299 -5298 -5297 -5296 -5295 -5294 -5293 -5292 -5291 -5290 -5289 -5288 -5287 -5286 -5285 -5284 -5283 -5282 -5281 -5280 -5279 -5278 -5277 -5276 -5275 -5274 -5273 -5272 -5271 -5270 -5269 -5268 -5267 -5266 -5265 -5264 -5263 -5262 -5261 -5260 -5259 -5258 -5257 -5256 -5255 -5254 -5253 -5252 -5251 -5250 -5249 -5248 -5247 -5246 -5245 -5244 -5243 -5242 -5241 -5240 -5239 -5238 -5237 -5236 -5235 -5234 -5233 -5232 -5231 -5230 -5229 -5228 -5227 -5226 -5225 -5224 -5223 -5222 -5221 -5220 -5219 -5218 -5217 -5216 -5215 -5214 -5213 -5212 -5211 -5210 -5209 +5321 -6576 -6575 -6574 -6573 -6572 -6571 -6570 -6569 -6568 -6567 -6566 -6565 -6564 -6563 -6562 -6561 -6560 -6559 -6558 -6557 -6556 -6555 -6554 -6553 -6552 -6551 -6550 -6549 -6548 -6547 -6546 -6545 -6544 -6543 -6542 -6541 -6540 -6539 -6538 -6537 -6536 -6535 -6534 -6533 -6532 -6531 -6530 -6529 -6528 -6527 -6526 -6525 -6524 -6523 -6522 -6521 -6520 -6519 -6518 -6517 -6516 -6515 -6514 -6513 -6512 -6511 -6510 -6509 -6508 -6507 -6506 -6505 -6504 -6503 -6502 -6501 -6500 -6499 -6498 -6497 -6496 +6314 +6315 +6316 +6317 +6318 +6319 +6320 +6321 +6322 +6323 +6324 +6325 +6326 -1169 -1168 -1167 -1166 -1165 -1164 -1163 -1162 -1161 -1160 -1159 -1158 -1157 -1156 -1155 -1154 -1153 -1152 -1151 -1150 -1149 -1148 -1147 -1146 -1145 -1144 -1143 -1142 -1141 -1140 -1139 -1138 -1137 -1136 -1135 -1134 -1133 -1132 -1131 -1130 -1129 -1128 -1127 -1126 -1125 -1124 -1123 -1122 -1121 -1120 -1531 -1530 -1529 -1528 -1527 -1526 -1525 -1524 -1523 -1522 -4466 -4465 -4464 -4463 -4462 -4461 -4460 -4459 -4458 -4457 -4456 -4455 -4454 -4453 -4452 -4451 -4450 -4449 -4448 -4447 -4446 -4445 -4444 -4443 -4442 -4441 -4440 -4439 -4438 -4437 -4436 -4435 -4434 -4433 -4432 -4431 -4430 -4429 -4428 -4427 -4426 -4425 -4424 -4423 -4422 -4421 -4420 -4419 -4418 -4417 -4416 -4415 -4414 -4413 -4412 -4411 -4410 -4409 -4408 -4407 -4406 -4405 -4404 -4403 -4402 -4401 -4400 -4399 -4398 -4397 -4396 -4395 -4394 -4393 -4392 -4391 -4390 -4389 -4388 -4387 -4386 -4385 -4384 -4383 +15 +1860 +1861 +1862 +1863 +1864 +1865 +1866 +1867 +1868 +1869 +1870 +1871 +1872 +1873 +1874 +1875 +1876 +1877 +1878 +1879 +1880 +1881 +1882 +1883 +1884 +1885 +1886 +1887 +1888 +1889 +1890 +1891 +1892 +1893 +1894 +1895 +1896 +1897 +1898 +1899 -4919 -4918 -4917 -4916 -4915 -4914 -4913 -4912 -4911 -4910 -4909 -4908 -4907 -4906 -4905 -4904 -4903 -4902 -4901 -4900 -4899 -4898 -4897 -4896 -4895 -4894 -4893 -4892 -4891 -4890 -4889 -4888 -4887 -4886 -4885 -4884 -4883 -4882 -4881 -4880 -4879 -4878 -4877 -4876 -4875 -4874 -4873 -4872 -4871 -4870 -4869 -4868 -4867 -4866 -4865 -4864 -4863 -4862 -4861 -4860 -4859 -4858 -4857 -4856 -2692 -2691 -2690 -2689 -2688 -2687 -2686 -2685 -2684 -2683 -2682 -2681 -2680 -2679 -2678 -2677 -2676 -2675 -2674 -2673 -2672 -2671 -2670 -2669 -2668 -2667 -2666 -2665 -2664 -2663 -2662 -2661 -2660 -2659 -2658 -2657 -2656 -2655 -2654 -2653 -2652 -2651 -2650 -2649 -2648 -2647 -2646 -2645 -2644 -2643 -2642 +4798 +4799 +4800 +4801 +4802 +4803 +4804 +4805 +4806 +4807 +4808 +4809 +4810 +4811 +4812 +4813 +4814 +4815 +4816 +4817 +4818 +4819 +4820 +4821 +4822 +4823 +4824 +4825 +4826 +4827 +4828 +4829 +4830 +4831 +4832 +4833 +4834 +4835 +4836 +4837 +4838 +4839 +4840 +4841 +4842 +4843 +4844 +4845 +4846 +4847 +4848 +4849 +4850 +4851 +4852 +4853 +4854 -7495 -7494 -7493 +2954 +2955 +2956 +2957 +2958 +2959 +2960 +2961 +2962 +8332 +8333 +8334 +8335 +8336 +8337 +8338 +8339 +8340 +8341 +8342 +8343 +8344 +8345 +8346 +8347 +8348 +8349 +8350 +8351 +8352 +8353 +8354 +8355 +8356 +8357 +8358 +8359 +8360 +8361 +8362 +8363 +8364 +8365 +8366 +8367 +8368 +8369 +8370 +8371 +8372 +8373 +8374 +8375 +8376 +8377 +8378 +8379 +8380 +8381 +8382 +8383 +8384 +8385 +8386 +8387 +8388 +8389 +8390 +8391 +8392 +8393 +8394 +8395 +8396 +8397 +8398 +8399 +8400 +8401 +8402 +8403 +8404 +8405 +8406 +8407 +8408 +8409 +8410 +8411 +8412 +8413 +8414 +8415 +8416 +8417 +8418 +8419 +8420 +8421 +8422 +8423 +8424 +8425 +8426 +8427 +8428 +8429 +8430 +8431 +8432 +8433 +8434 +8435 +8436 +8437 +8438 +8439 +8440 +8441 +8442 +8443 +8444 +8445 +8446 +8447 +8448 +8449 +8450 +8451 +8452 +8453 +8454 +8455 +8456 +8457 +8458 +8459 +8460 +8461 +8462 +8463 +8464 +8465 +8466 +8467 +8468 +8469 +8470 +8471 +8472 +8473 +8474 +8475 +8476 +8477 +8478 +8479 +8480 +8481 +8482 +8483 +8484 +8485 -7362 -7361 -7360 -7359 -7358 -7357 -7356 -7355 -7354 -7353 -7352 -7351 -7350 -7349 -7348 -7347 -7346 -7345 -7344 -7343 -7342 -7341 -7340 -7339 -7338 -7337 -7336 -7335 -7334 -7333 -7332 -7331 -7330 -7329 -7328 -7327 -7326 -7325 -7480 -7479 -7478 -7477 -7476 -7475 -7474 -7473 -7472 -7471 -7470 -7469 -7468 -7467 -7466 -7465 -7464 -7463 -7462 -7461 -7460 -7459 -7458 -7457 -7456 -7455 -7454 -7453 -7452 -7451 -7450 -7449 -7448 -7447 -7446 -7445 -7444 -7443 -7442 -7441 -7440 -7439 -7438 -7437 -7436 -7435 -7434 -7433 -7432 -7431 -7430 -7429 -7428 -7427 -7426 -7425 -7424 -7423 -7422 -7421 -7420 -7419 -7418 -7417 -7416 -7415 -7414 -7413 -7412 -7411 -7410 -7409 -7408 -7407 -7406 -7405 -7404 -7403 -7402 -7401 -7400 -7399 -7398 -7397 -7396 -7395 -7394 -7393 -7392 -7391 -7390 -7389 -7388 -7387 -7386 -7385 -7384 -7383 -7382 -7381 -7380 -7379 -7378 -7377 -7376 -7375 -7374 -7373 -7372 -7371 -7370 -7369 -7368 -7367 -7366 -7365 -7364 -7363 +8486 +8487 +8488 +8489 +8490 +8491 +8492 +8493 +8494 +8495 +8496 +8497 +8498 +8499 +8500 +8501 +8502 +8503 +8504 +8505 +8506 +8507 +8508 +8509 +8510 +8511 +8512 +8513 +8514 +8515 +8516 +8517 +8518 +8519 +8520 +8521 +8522 +6603 +6604 +6605 +6606 +6607 +6608 +6609 +6610 -612 -611 -610 -609 -608 -607 -606 -605 -604 -603 -602 -601 -600 -599 -598 -597 -596 -595 -594 +6440 +6441 +6442 +6443 +6444 +6445 +6446 +6447 +6448 +6449 +6450 +6451 +6452 +6453 +6454 +6455 +6456 +6457 +6458 +6459 +6460 +6461 +6462 +6463 +6464 +6465 +6466 +6467 +6468 -8803 -8802 -8801 -8800 -8799 -8798 -8797 -8796 -8795 -8794 -8793 -8792 -8791 -8790 -8789 -8788 -8787 -8786 -8785 -8784 -8783 -8782 -8781 -8780 -8779 -8778 -8777 -8776 -8775 -8774 -8773 -8772 -8771 -8770 -8769 -8768 -8767 -8766 -8765 -8764 -8763 -8762 -8761 -8760 -8759 -8758 -8757 -8756 +3744 +3745 +3746 +3747 +3748 +3749 +3750 +3751 +3752 +3753 +3754 +3755 +3756 +3757 +3758 +3759 +3760 +3761 +3762 +3763 +3764 -2925 -2924 -2923 -2922 -2921 -2920 -2919 -2918 -2917 +5492 +5493 +5494 +5495 +5496 +5497 +5498 +5499 +5500 +5376 -2303 -2302 -2301 -2300 -2299 -2298 -2297 -2296 -2295 -2294 -2293 -2292 -2291 -2290 -2289 -2288 -2287 -2286 -2285 -2284 -2283 -2282 -2281 -2280 -2279 -2278 -2277 -2276 -2275 -2274 -2273 -2272 -2271 -2270 -2269 -2268 -2267 -2266 -2265 -2264 -2263 -2262 -2261 -2260 -2259 -2258 -2257 -2256 -2255 -2254 -2253 -2252 -2251 -2250 -2249 -2248 -2247 -2246 -2245 -2244 -2243 -2242 -2241 -2240 -2239 -2238 -2237 -2236 -2235 -2234 -2233 -2232 -2231 -2230 -2229 -2228 -2227 -2226 -2225 -2224 -2223 -2222 -2221 -2220 -2219 -2218 -2217 -2216 -2215 -2214 -2213 -2212 -2211 -2210 -2209 -2208 -2207 -2206 -2205 -2204 -2203 -2202 -2201 -2200 -2199 -2198 -2197 +8084 +8085 +8086 +8087 +8088 +8089 +8090 +8091 +8092 +8093 +8094 +8095 +8096 +8097 +8098 +8099 +8100 +2557 +2558 +2559 +2560 +2561 +2562 +2563 +2564 +2565 +2566 +2567 +2568 +2569 +2570 +2571 +2572 +2573 +2574 +2575 +2576 +2577 +2578 +2579 +2580 +2581 +2582 +2583 +2584 +2585 +2586 +2587 +2588 +2589 +2590 +2591 +2592 +2593 +2594 +2595 +2596 +2597 +2598 +2599 +2600 +2601 +2602 +2603 +2604 +2605 +2606 +2607 +2608 +2609 +2610 +2611 +2612 +2613 +2614 +2615 +2616 +2617 +2618 +2619 +2620 +2621 +2622 +2623 +2624 +2625 +2626 +2627 +2628 +2629 +2630 +2631 +2632 +2633 +2634 +2635 +2636 +2637 +2638 +2639 +2640 +2641 -4797 -4796 +6793 +6794 +6795 +6796 +6797 +6798 +6799 +6800 +6801 +6802 +6803 +6804 +6805 +6806 +6807 +6808 +6809 +6810 +6811 +6812 +6813 +6814 +6815 +6816 +6817 +6818 +6819 +6820 +6821 +6822 +6823 +6824 +6825 +6826 +6827 +6828 +6829 +6830 +6831 +6832 -6784 -6783 -6782 -6781 -6780 -6779 -6778 -6777 -6776 -6775 -1494 -1493 -1492 -1491 -1490 -1489 -1488 -1487 -1486 -1485 -1484 -1483 -1482 -1481 -1480 -1479 -1478 -1477 -1476 -1475 -1474 -1473 -1472 -1471 -1470 -1469 -1468 -1467 -1466 -1465 -1464 -1463 -1462 -1461 -1460 -1459 -1458 -1457 -1456 -1455 -1454 -1453 -1452 -1451 -1450 -1449 -1448 -1447 -1446 -1445 -1444 -1443 -1442 -1441 -1440 -1439 -1438 -1437 -1436 -1435 -1434 -1433 -1432 -1431 -1430 -1429 -1428 -1427 -1426 -1425 -1424 +1331 +1332 +1333 +1334 +1335 +1336 -6865 -6864 -6863 -6862 -6861 -6860 -6859 -6858 -6857 -6856 -6855 -6854 -6853 -6852 -6851 -6850 -6849 -6848 -6847 -6846 -6845 -6844 -6843 -6842 -6841 -6840 -6839 -6838 -6837 -6836 -6835 -6834 -6833 +6785 +6786 +6787 +6788 +6789 +6790 +6791 +6792 -4795 -4794 -4793 -4792 -4791 -4790 -4789 -4788 -4787 -4786 -4785 -4784 -4783 -4782 -4781 -4780 -4779 -4778 -4777 -4776 -4775 -4774 -4773 -4772 -4771 -4770 -4769 -4768 -4767 -4766 -4765 -4764 -4763 -4762 -4761 -4760 -4759 -4758 -4757 -4756 -4755 -4754 -4753 -4752 -4751 -4750 -4749 -4748 -4747 -4746 -4745 -4744 -4743 -4742 -4741 -4740 -4739 -4738 -4737 -4736 -4735 -4734 -4733 -4732 -4731 -4730 -4729 -4728 -4727 -4726 -4725 -4724 -4723 -4722 -4721 -4720 -4719 -4718 -4717 -4716 -4715 -4714 -4713 -4712 -4711 -4710 -4709 -4708 -4707 -4706 -4705 -4704 -4703 -4702 -4701 -4700 -4699 -4698 -4697 -4696 +8962 +8963 +8964 +8965 +8966 +8967 +8968 +8969 +8970 +8971 +8972 +8973 +8974 +8975 +8976 +8977 +8978 +8979 +8980 +8981 +8982 +8983 +8984 +8985 +8986 +8987 +8988 +8989 +8990 +8991 +8992 +8993 +8994 +8995 +8996 +8997 +8998 +8999 +9000 +9001 +9002 +9003 +9004 +9005 +9006 +9007 +9008 +9009 +9010 +9011 +9012 +9013 +9014 +9015 +9016 +9017 +9018 +9019 +9020 +9021 +9022 +9023 +9024 +9025 +9026 +9027 +9028 +9029 +9030 +9031 +9032 -4170 -4169 -4168 -4167 -4166 -4165 -4164 -4163 -4162 -4161 -4160 -4159 -4158 -4157 -4156 -4155 -4154 -4153 -4152 -4151 -4150 -4149 -4148 -4147 -4146 -4145 -4144 -4143 -4142 -361 -360 -359 -358 -357 -356 -355 -354 -353 -352 -351 -350 -349 -348 -347 -346 -345 -344 -343 -342 -341 -340 -339 -338 -337 -336 -335 -334 -333 -332 -331 -330 -329 -328 -327 -326 -325 -324 -323 -322 -321 -320 -319 -318 -317 -316 -315 -314 -313 -312 -311 -310 -309 -308 -307 -306 -305 -304 -303 -302 -301 -300 -299 -298 -297 -296 -295 -294 -293 -292 -291 -290 -289 -288 -287 -286 -285 -284 -283 -282 -281 -280 -279 -278 -277 -276 -275 -274 -273 -272 -271 -270 -269 -268 -267 -266 -265 -264 -263 -262 -261 -260 -259 -258 -257 -256 -255 -254 -253 -252 -251 -250 -249 +9268 +9269 +9270'\n",
    "print(Breakpoints(x))"
   ]
  },
  {
   "cell_type": "markdown",
   "id": "288e2af6",
   "metadata": {},
   "source": [
    "## TwoBreakDistance"
   ]
  },
  {
   "cell_type": "markdown",
   "id": "4b0ea1c0",
   "metadata": {},
   "source": [
    "**Input:** Genomes P and Q.\n",
    "\n",
    "**Output:** The 2-break distance d(P, Q)."
   ]
  },
  {
   "cell_type": "code",
   "execution_count": 6,
   "id": "01657d20",
   "metadata": {},
   "outputs": [],
   "source": [
    "from biofunctions.alignment.TwoBreakDistance import TwoBreakDistance"
   ]
  },
  {
   "cell_type": "code",
   "execution_count": 7,
   "id": "e1709a2d",
   "metadata": {},
   "outputs": [
    {
     "name": "stdout",
     "output_type": "stream",
     "text": [
      "3\n"
     ]
    }
   ],
   "source": [
    "P = \"(+1 +2 +3 +4 +5 +6)\"\n",
    "Q = \"(+1 -3 -6 -5)(+2 -4)\"\n",
    "print(TwoBreakDistance(P, Q))"
   ]
  },
  {
   "cell_type": "markdown",
   "id": "965ecbe5",
   "metadata": {},
   "source": [
    "## TwoBreakSorting\n",
    "\n",
    "**Input:** Two genomes with circular chromosomes on the same set of synteny blocks.\n",
    "\n",
    "**Output:** The sequence of genomes resulting from applying a shortest sequence of 2-breaks transforming one genome into the other."
   ]
  },
  {
   "cell_type": "code",
   "execution_count": 1,
   "id": "59f703ce",
   "metadata": {},
   "outputs": [],
   "source": [
    "from biofunctions.alignment.TwoBreakSorting import TwoBreakSorting"
   ]
  },
  {
   "cell_type": "code",
   "execution_count": 3,
   "id": "49ede349",
   "metadata": {},
   "outputs": [
    {
     "name": "stdout",
     "output_type": "stream",
     "text": [
      "(+1 +10 -2 +3 -9 -6 -12 +11 -8 +5 -4 -7 -13)\n",
      "(-13 +1 +4 -5 +8 -11 +12 +6 +9 -3 +2 -10 -7)\n",
      "(-7 -13 +1 +6 +9 -3 +2 -10)(+12 +4 -5 +8 -11)\n",
      "(-10 -7 -13 +1 +12 +4 -5 +8 -11 +6 +9 -3 +2)\n",
      "(+2 -10 -7 -13 +1 -3)(+9 +12 +4 -5 +8 -11 +6)\n",
      "(-3 +2 -10 -7 -13 +1 -5 +8 -11 +6 +9 +12 +4)\n",
      "(+4 -3 -1 +13 +7 +10 -2 -5 +8 -11 +6 +9 +12)\n",
      "(+12 +4 -3 -2 -5 +8 -11 +6 +9)(+10 -1 +13 +7)\n",
      "(+9 +12 +4 -3 -2 -5 +8 -11 +6 -1 +13 +7 +10)\n",
      "(+10 +9 +12 +4 -3 -2 -5 -6 +11 -8 -1 +13 +7)\n",
      "(+7 +10 +9 +12 +4 -3 -2 -5 -6 +11 -8)(+13 -1)\n",
      "(-8 +7 +10 +9 +12 +4 -3 -2 -5 -6 +11 -1 +13)\n"
     ]
    }
   ],
   "source": [
    "P = '+1 +10 -2 +3 -9 -6 -12 +11 -8 +5 -4 -7 -13'.split(' ')\n",
    "Q = '+8 -13 +1 -11 +6 +5 +2 +3 -4 -12 -9 -10 -7'.split(' ')\n",
    "TwoBreakSorting(P, Q)"
   ]
  },
  {
   "cell_type": "markdown",
   "id": "fd02e2eb",
   "metadata": {},
   "source": [
    "## SharedKmers\n",
    "\n",
    "**Input:** An integer k and two strings.\n",
    "\n",
    "**Output:** All k-mers shared by these strings, in the form of ordered pairs (x, y) corresponding to starting positions of these k-mers in the respective strings."
   ]
  },
  {
   "cell_type": "code",
   "execution_count": 3,
   "id": "3c6d5641",
   "metadata": {},
   "outputs": [],
   "source": [
    "from biofunctions.alignment.SharedKmers import SharedKmers"
   ]
  },
  {
   "cell_type": "code",
   "execution_count": 5,
   "id": "d93ee2de",
   "metadata": {
    "scrolled": true
   },
   "outputs": [
    {
     "name": "stdout",
     "output_type": "stream",
     "text": [
      "(19198, 12)\n",
      "(12012, 13)\n",
      "(19197, 13)\n",
      "(11194, 105)\n",
      "(18897, 105)\n",
      "(19071, 125)\n",
      "(12503, 126)\n",
      "(19072, 126)\n",
      "(12504, 127)\n",
      "(16329, 127)\n",
      "(19073, 127)\n",
      "(19074, 128)\n",
      "(1461, 145)\n",
      "(1460, 146)\n",
      "(4493, 146)\n",
      "(4492, 147)\n",
      "(4491, 148)\n",
      "(804, 203)\n",
      "(805, 204)\n",
      "(2257, 204)\n",
      "(3417, 204)\n",
      "(806, 262)\n",
      "(3418, 262)\n",
      "(805, 263)\n",
      "(2257, 263)\n",
      "(3417, 263)\n",
      "(3416, 264)\n",
      "(1757, 359)\n",
      "(3855, 359)\n",
      "(13339, 359)\n",
      "(6896, 431)\n",
      "(6492, 432)\n",
      "(6897, 432)\n",
      "(13753, 463)\n",
      "(14708, 463)\n",
      "(17164, 463)\n",
      "(17165, 464)\n",
      "(6686, 506)\n",
      "(14984, 506)\n",
      "(16358, 506)\n",
      "(8309, 558)\n",
      "(10263, 558)\n",
      "(10264, 559)\n",
      "(10265, 560)\n",
      "(10323, 593)\n",
      "(10322, 594)\n",
      "(10321, 595)\n",
      "(2950, 596)\n",
      "(10320, 596)\n",
      "(18279, 596)\n",
      "(2949, 597)\n",
      "(16925, 655)\n",
      "(2683, 656)\n",
      "(3014, 656)\n",
      "(16926, 656)\n",
      "(10556, 729)\n",
      "(2168, 730)\n",
      "(4949, 730)\n",
      "(10555, 730)\n",
      "(19810, 886)\n",
      "(805, 915)\n",
      "(2257, 915)\n",
      "(3417, 915)\n",
      "(3606, 954)\n",
      "(3607, 955)\n",
      "(11386, 955)\n",
      "(17433, 955)\n",
      "(17434, 956)\n",
      "(5414, 1003)\n",
      "(2797, 1038)\n",
      "(6386, 1038)\n",
      "(17052, 1038)\n",
      "(2798, 1039)\n",
      "(17053, 1039)\n",
      "(2799, 1040)\n",
      "(17054, 1040)\n",
      "(3712, 1078)\n",
      "(16049, 1078)\n",
      "(15743, 1102)\n",
      "(15744, 1103)\n",
      "(4149, 1125)\n",
      "(1757, 1223)\n",
      "(3855, 1223)\n",
      "(13339, 1223)\n",
      "(3854, 1224)\n",
      "(1460, 1243)\n",
      "(4493, 1243)\n",
      "(6492, 1270)\n",
      "(6897, 1270)\n",
      "(3607, 1297)\n",
      "(11386, 1297)\n",
      "(17433, 1297)\n",
      "(17434, 1298)\n",
      "(17435, 1299)\n",
      "(17436, 1300)\n",
      "(17437, 1301)\n",
      "(17051, 1315)\n",
      "(4421, 1359)\n",
      "(9864, 1359)\n",
      "(4420, 1360)\n",
      "(1012, 1447)\n",
      "(18739, 1447)\n",
      "(11194, 1470)\n",
      "(18897, 1470)\n",
      "(18898, 1471)\n",
      "(3607, 1570)\n",
      "(11386, 1570)\n",
      "(17433, 1570)\n",
      "(3606, 1571)\n",
      "(3605, 1572)\n",
      "(7997, 1671)\n",
      "(13850, 1671)\n",
      "(3055, 1722)\n",
      "(12012, 1849)\n",
      "(19197, 1849)\n",
      "(838, 1872)\n",
      "(9636, 1872)\n",
      "(19573, 1872)\n",
      "(1012, 1953)\n",
      "(18739, 1953)\n",
      "(5935, 2028)\n",
      "(19227, 2028)\n",
      "(5934, 2029)\n",
      "(5935, 2087)\n",
      "(19227, 2087)\n",
      "(19576, 2119)\n",
      "(19575, 2120)\n",
      "(19574, 2121)\n",
      "(838, 2122)\n",
      "(9636, 2122)\n",
      "(19573, 2122)\n",
      "(9635, 2123)\n",
      "(18281, 2195)\n",
      "(18280, 2196)\n",
      "(2950, 2197)\n",
      "(10320, 2197)\n",
      "(18279, 2197)\n",
      "(18278, 2198)\n",
      "(7997, 2232)\n",
      "(13850, 2232)\n",
      "(13849, 2233)\n",
      "(13848, 2234)\n",
      "(7423, 2299)\n",
      "(7422, 2300)\n",
      "(7421, 2301)\n",
      "(7420, 2302)\n",
      "(7419, 2303)\n",
      "(7418, 2304)\n",
      "(7417, 2305)\n",
      "(9634, 2318)\n",
      "(1757, 2358)\n",
      "(3855, 2358)\n",
      "(13339, 2358)\n",
      "(3854, 2359)\n",
      "(11993, 2391)\n",
      "(8949, 2392)\n",
      "(11992, 2392)\n",
      "(8948, 2393)\n",
      "(8947, 2394)\n",
      "(20706, 2467)\n",
      "(104, 2468)\n",
      "(19911, 2468)\n",
      "(20705, 2468)\n",
      "(6686, 2510)\n",
      "(14984, 2510)\n",
      "(16358, 2510)\n",
      "(6687, 2511)\n",
      "(14985, 2511)\n",
      "(14986, 2512)\n",
      "(2168, 2580)\n",
      "(4949, 2580)\n",
      "(10555, 2580)\n",
      "(2167, 2581)\n",
      "(13750, 2614)\n",
      "(13751, 2615)\n",
      "(6686, 2635)\n",
      "(14984, 2635)\n",
      "(16358, 2635)\n",
      "(17050, 2679)\n",
      "(17051, 2680)\n",
      "(2797, 2681)\n",
      "(6386, 2681)\n",
      "(17052, 2681)\n",
      "(10556, 2747)\n",
      "(2168, 2748)\n",
      "(4949, 2748)\n",
      "(10555, 2748)\n",
      "(2167, 2749)\n",
      "(14108, 2889)\n",
      "(1460, 2954)\n",
      "(4493, 2954)\n",
      "(1459, 2955)\n",
      "(2395, 2977)\n",
      "(2396, 2978)\n",
      "(2755, 2978)\n",
      "(11535, 2978)\n",
      "(2756, 2979)\n",
      "(11536, 2979)\n",
      "(105, 3032)\n",
      "(104, 3033)\n",
      "(19911, 3033)\n",
      "(20705, 3033)\n",
      "(19910, 3034)\n",
      "(2682, 3160)\n",
      "(2683, 3161)\n",
      "(3014, 3161)\n",
      "(16926, 3161)\n",
      "(2684, 3162)\n",
      "(2685, 3163)\n",
      "(16328, 3189)\n",
      "(12504, 3190)\n",
      "(16329, 3190)\n",
      "(19073, 3190)\n",
      "(12505, 3191)\n",
      "(16330, 3191)\n",
      "(12506, 3192)\n",
      "(16331, 3192)\n",
      "(3013, 3268)\n",
      "(2683, 3269)\n",
      "(3014, 3269)\n",
      "(16926, 3269)\n",
      "(18225, 3292)\n",
      "(13944, 3293)\n",
      "(18224, 3293)\n",
      "(13943, 3294)\n",
      "(18223, 3294)\n",
      "(13942, 3295)\n",
      "(18176, 3338)\n",
      "(18177, 3339)\n",
      "(13077, 3340)\n",
      "(16568, 3340)\n",
      "(18178, 3340)\n",
      "(13077, 3377)\n",
      "(16568, 3377)\n",
      "(18178, 3377)\n",
      "(18177, 3378)\n",
      "(2396, 3396)\n",
      "(2755, 3396)\n",
      "(11535, 3396)\n",
      "(2754, 3397)\n",
      "(11534, 3397)\n",
      "(2753, 3398)\n",
      "(7, 3486)\n",
      "(8, 3487)\n"
     ]
    }
   ],
   "source": [
    "k = 20\n",
    "seq1 = \"ATGGAGTCCCGATCGACGTTTTCGTGTGTGGTGGCCCCTCCTCATAGCAGTCGTTGAAAGCCATGTGGTCGCACAAATACCTCCCTTCACGAAAAAAACACATCCTCTAAACCCGAGCCTCATTGACGGCTAGATCCCCAGCTTGTACGTTATACCGAAATGCCCGCTAATTTGGAACGATTATAATCAGAGCTGACGGGTGTCGGGGGTAGCTCCATTCGGGATCTCTGCCGTTTCCACGTGACTACTCACGATAGACCCGTCTATGTTGATAGCGCGGGGACAAGAGGTTCCCCCCTGAGGGTAGGGACGCCTCAGACAAGTGGACGCAGGATGCAGAAACCAATAGATAAATTGTCGAGTAACTTCGGGCGCGAACTATAGCTCGACATGCCGGATGGAAGAGCAAGAGAGAGTCTACAACAAATACAAAGTACAGGAGTCGTGACTGCACGTGGGGGGCCCCTATTCGCCTTCTATCCGACAATCATAACAAGACCAATCACCAATGCAGTAATCATTTATCTTGGTGCAATCGTGGCTTCCTCCAAAAATGCGCGAGGGAACGATCGGTGAAAACCTTAAGTTAGTCATAGCATGTAGTCGACCGAAATGGATACCGACAAACATTGAGCTGTGATTAGATATTTACATGTTTCAGAAAACTGGTTTAAGATAGCACAGAGCACATGCCGTAAGCGGTCAGAGTATTTGCCTGTGTGTCTCTGCTTGCGGTCTCACGGATGAATGTCATTAATGTTTCCGAGGATGGGGGTGCCGTTGATGGTGAGAACAGGTACAAAGGTAGACTCGATTCTTATAGTCCATAGAGCGAACCAAGTCAAAGATTAAACCTTAACTGGTCATGCGATAAAGCTCCGGATTGATAGCTAGAACAACATACAGTACCAAGGCGAACAAGGGAGGTCTTAACTCTGTATGCTACTAGTCGCCCTCGTTGCCTACCCCTACCAGTGGTACATTTGGACGACAGTAGCTGGAATCCATGCGGAACGCACTAAGGGTCGGTAAGTGCTAAGAAAATACTCTGAACATCTGGTTTCAATATCACCGCGCATTTTCCGTTGTCAGCGTCTCACACACAAATTTAGCAGTTATACCACCTGAGCTACATAACTTGAAGCTAAAGACATACTTGCGTTTAGTATGGGCTAACGAGTCTAACCCCGCTCAGGTCCCCTGTCGTATTGCCACTTGGAAACATTGGGATTAGAGTAAAATTCTCGACGGGCGTAACATTTCTGTAGGATGTATTCGTGTCAGGGCTGTTAAATCCGAGCAGGGACACATGAATCGCTACTGTCCAATACCGTCAACCTTGATGCCTGACACCGTCAAAACCTGATATTACCAAGGACACGTAAAAAGATTTTCCACTTCGCGGACCACATTCCTCTTTCACATTAAACACTATTCTCCTATAGGGGTAATTAAGACTCGCTGGAATCCATGCGGGTGCTACCTCACCCCAATGAAGACCTAGAAAAGCACGGTACTATAATAAGATTCCCTCATATCTAATAGCCAGCATGCATCCAACACCTTTGATAGTCATGTCCGGTGCAACAACTTTAAGATAGAAATGCGGCGAAATCAAACCGACCACTGCTGGTTGAGAAGCAGATATGGAACATAGATTTGCAGAGCGGGAAGAGTTACCAATATGGTCACGCAGCGCAGGGTGCATACCTCATAACGGATAAGGTGATGTGTCGCAGGAGTTGATTCTCGAAGCTCGGTTAGGATGTTCTGGGGCGGAAAATCTACTTAATACATAGCTCGAGAACCTAGCTATGACGAACATGCTAGAAGGTCGAGGCGGCACGGGACCGGTGGTTTGTGGACCTACACTCAGTCATGTGGGTACAGTCGCTAAGTGGGTTGTCGTGGCTTGACCCGCATAATGTTGGGGTTATACTTTACCCTCCACGTTGAGCATCTACAGGGGGCAGGTTTCCCACTTTCAGTACTGCGGCCGATACGAGCCGCAGTGTGCCTACGCGTATATTTGTAGCAATTACATACCGTCTGCAGAAGATTACGTATCTGCAAGTCTCAAAGGAGGCAGAATATGGTTCTACGATGATAAATTTTGTCTTCGGCCACGGTGACCCGAGCCGACTAGTGACTCGTAACGCATAAACTAAAACTCTGACTTACGCCCCATCCTGCGGCCTTTTGTAGCGCGCACATCACGCTCGCCTGAAACCACAGCGCCCAATGCAAAGCTAAGCGCTAGACTCGATTCTTATAGTCGATCACACTCAAAGATAACATGGAAATCCCCACAGCTTCGATAGAAACCACCGTTCATTGCCGAACACTCCGTGAGGACTTCTGGTGCGACATGGGCTTCCAGCCCCTCCTATCGGGTCTGATTGTCCGTACGAACTTTGCCACGTGCTTAGACTAACCGTCCCCACGTGTCGGCAAGTGAGGCCCCAGGAAGAACCTAAGACCTTCACGCGTCAGTGCATTTTACTCGCTGCGCTGCTGTGTGTCCCAAGTTACGGTGTATCATAACAACTCCAGAACTATCCCTGGTCAGCACCGACCAATGGGCTTTTGGCGCACCCTTCTTAAAGAATAGTGCTGGCTTACGCTTCGTGAAAACAGAACGGATACCCGAGGGGTCGTTGCTACCGACCTGGTGCTGACACTCATCGTATGCGGAAAGGCGTAACAACTCGTCACGGAAGACGAGCGGCAAACTGGAGTTGCGCCGCATACGTGGTGATTGTCCGTACGAACTTTTCAGCGTGTGTCTTTGTAACAAATCCGTGCGGCGTGAGTGACTTCACCCGGCGGTTAAACGTTGAACGACTTGACGTTTGCAATCCGTTCATGTTTTATCTCATTACCACATTTGCGGGCTTGCGGGCTTGATTCGACGGGCAATTTTCCGTTAGCGATTAGTATTGCACTCGTGCTCTTATGTATGGCACGAAGACCAGTACTAAATTTTCCATGACACGACGCAGTAACTCAACCAGATCGTATGCGGAAAGGCGTAGTACGATAGGTCCACGTCCAAGCGTCAGGGTGTGGCTGCTGGCTGAAGGACCTTTATTTCTCCCAGCCAGACACTTAAACTGAACGAGTTCTAACCAGTCTGGCGTGCAGTTCAAATCCGTTTGAAAACGATTACCTGTTTGTGGATTACCAGCTTGACTGTTCGTTAGGCCTATTATATGGAAAACAGGCTGGGCGGGAGGATATCTTACCTCGGATGGACTCAACAGGCGTAGGAAATCTTATAACAACCGCTTCGGTGATCGGATCCGGCCTCCATAGACGAACTGCCAGTTGAAAGCTTCGTGTTTTCGAACTAAACGACCGACTCAGCTGCTGTATCCAGAAGGTTTTAATCCCCGGGATCTGTCCCCCGAGAGGATATAGACTCGATTCTTATAGTCCTGTGGAGATTCCTCTTCACCAAACACTAGATATCAGCCGTGATCAAATATTTACGTAGGCGGGTGGCAAGTGTTCATTAAATCAGAGCTGGTGCCTAAGCTCTATCTAAGGCGTGCTGGGTGTCAAGACGGACCCCTGGTGCACTGACGCACTGAGGCCGCGCACAGAGAGACATTGATTGTTCTATTCCGCACCTGATTCGTTTAACGGAGCAGAAGACTTTCCCGTACCGCAAAATACTAAGTGAACCGAATGAAAATAGGTTTGACGAGACGACTTGTAATCGTGGCCAGGCACGGACTCCTCCTAGCGCAAGACTAACCGAATCAGGTCCACCTTAGATAAAAATCCAGAAGGTCACACGCACGGCACTAGGCGGCTACACTACTGAATGGGCATCGGTTCCCATTGTTTATCCGGTTAGGATGTTCTGGGGCGGTCCAGTCAGTCGTTGTCCAATGATTCTAATTTACGCCCTACAAGCTCACGCCGAGCCGCCGGGTTCCGTTTCTTTCGTTGTAACTTTCACGAACCGAAGTCGCTCAATGTGATGGATAAGAGCCGAAGAGGAATACCATCACCGACTCAGTAATCCGCCATAGGTCGCGTGATCTCGTAATACATCAAGGAATTCGACTTCCATCACCCGGGATGAGTCCCTCTATCAATCGTGAGAGATTACTCGCACATTGCGGATAATTCTTAATAGGTACCCACAGTGGATGGTATACAATATGCCATTTTCATAATTGCTAAGGACGATGACCCGAGCAACGCCATGGTTGTAGTAACAAATCTGATGTAGGCTAAGACAGTTCGCGTGGGGTGCATTGTTGCCGCGAAGGGTGATCCTCGTATTGTTAGACGTCTAATCAGTTAGGGTAACAAATGACCGTCGGGAATAGATTGAAAGGGTCAGTCTAACGTAATGCGAGAGGAACATTTTTTGGTAGCACACTTTACCGGGCCCTACTTGATTTCATACCTCCATTCCTTAGCGTGACTCAGCATGGGTGGTCTTAAAGTCTCGTGTAAGTGCTCTGCGACGAAGGCTGGCTGGAATCCATGCGGGTGCGCTCACATAACGTTATCCAAATCCGTCACTGAGCCCTTGCCATGCCTCTCTTGCGCCTTTAAATTTGCTCCACCTGCATTGCGAGCTGAACTGCGAGTTCTTGATCGCAGAGTAGTCAACAACCTTTAGTGACATGCCTTCTGAAGATGGGTCCGTCGTCGACCAGCACAGGAAGGTAGAAGACCATGTTGTCTCACAACCTATTCCTCACATACGCAGCACAATACACCTTCGTTGAAGGTGGAGAATGTCATAATTGTCGTCAGGAAGAGAGTCATCATGAACAAGAAGCACGCGGCCTTTACTCTCCTCACACCGCATACTCATATGGTTTCAGGTGCGCTACACTAGAGCGTCATATCACTAATGAACCATCTAGGATACGATTGGTCTGATAACCGGTGCGCCGACCACAGTCGTTCACGGGCGCAGAGACAACTCTGACTTACGCCCCATGATACGAGACCGTTCAGAATGTTCCCGTAGATTGTTCACCGCCCTGCGACCGACCGGATTAAGTCATCACCAAAATAACTTCCCGGCTGGTACTTTTGGGGGGTGAAACGTAATGGTACCTATACGTTTTGGTATGGAGAGAGAAGCTAGGACTATCATAGAGTTAATCACCTTGCCTGCCAGCGCCGATCTGGCTCCTACAGAGAATTGATTGCATCTCACGAGGGATTACTACTGGGATATCTAAATGTATACGGGGCGTTCAATGGCGTGTATGGCAATCTACAAATGTGGATGAACGAAATGCTCTCATTGCAAGAAAGTGCTGAGAGAGCAACTGATAAATTTATTATTCACCCCTCGGTATTGTCGTACAAGCAAGTCAAGAACTCCCACATGGGTTCGCCGACTTTGCCAAGCCAAAACAGACGCACACAATGTGTCCTCACCAGTAATGCCCTTAGCGTGCAGCGCCCGGGAAGCGATATCCGACAACCGTGTTTACTGACAGCATTCCTCAATCACCACTCTTCCATAATTTAGATCACCCTTGTATCTTTGTAACCATAAACAAATTGGCTGTTGTGCAGTTTGCCGACGTTAATGTATGGCAGTTTGAGCTCCGCTTTAGACGATTGGAAGGTACAACGAAATCGGGACGCTGTCTTCTCTAACGATACGTATTGATAGAGCTCTGCGATCCGCGGAGCCATGTGTAGCTAGTTCCTTTTTCCTCCAAACTTGACGGGCGATAATCTTTCCCTTGTATCGGCCTGTTACCGCATTATCGGGTTGACGACAGCTAGGCTCGTTTTCTTCAGTAGGCTCAAGTAAGATGAATACCTAGACATACCCGGAAACTCGCAATATCGTTCACTGTACAATCGTCCAAATGAGTGCTTGGCAGTACTGTCTATAACCCCCCATCGTATGATTTTGCCGCCTACAACACTTTTCGCCTCCTTGCATCCCGTATCACTGCGCACCCGATACAGCGTCAGCACACTGATACCGTAAGTTTTTGGTCCCCCTGACTGGTTCCATTTAGCCAGTACTTAGCTACGTCACTTAATCTCTCAACAGCTATTTTGCAATTCACTGCCAAGCAGGTGCGGATCGTCAGGACGTGACCGTTCCAACTGCCTAGTCTGCCCGGAGGACCCACGGCTCTTGAGACTGTCCGGGGTCAGGTGATGACAATGGGTCTCCCTAAATTAATTAACCCGACCTCCCCTGCCAGACTCACCGCAATGCTTGCGGTGCCTTGCGCAGTTGCTTATTCGAAGTTTTAGCTGGGCCCCGCGCCGACCTACCCGACTGATTCGGTGTAGTTAGGGATCCGTTCCATGAAGCGGGACCTCCTTATGATCTTGGAATGGGTGGTCGTGGGAACCCCACAGTATGTCTTGAAGCGGCTATCCGTGCGGCGTGAGTGACATACTCAAAAAGCACTTCGTGGTTTTACCAAAGAGACGGCACGATCCTAGAGTGTGGGTTCCTTCCCAATCCGTCTTGTTCATCTTTTTATTCTGGTAGTTACCCTTGGATATTCTACATTTGGGAGACGAGGATCCGGTTCAGTCAATGCTGCCTTCTCGAACAGGTCACCTGATCGAAATCTTGTAGGATAGATTCCGGCCCAGTCGAAGACGTTAAGTACATGTACTTGCATGTACCGAGCCGATCATTAAAGATTATTTGCCCGAGCGGTTTGTTGCAATACGGTCACAGTATGAGGCCCAACCTCGGACGATCTGCGCTGAAATGGCCTGCTCCTGTGGTTTGTTACTGAACAGTGACACCGCTACTAGCCGTACGGGCCCCGCGGTTATGGCAGTTGACAAGGTTAAGTTATTACGGTAGACGCGTGTGCGCTGACGTACTTGATGTCAGTGAACAAATAAAAGTCTAATGTCTATGCTCAGAGCTTTATTCTGGTAGTTACCCTTAGAAGTACGCCAGCCGAGGCATGTAGCCCTGGGACGCGTCACCGCTGGTATGAGTGTAGAAATAATAGATTTGCATAGCCCAGAATCATCAACCGACAGAGCTACTGTATCCATGGAACCGGTTTTTCGCGTGCCGAATACCAAATTTTCGACGGATCGAGTATAGGCTTGTTGTATGTCTAGTCGTTTTGTAACGTGATTTCACCCGCATGTACTCCGATGTGGTTACCCCGGAATGTTTCCTGAAAGGCGTTATCCCCTATGGATTCGAATGGCGATGTGGTCCAAAACGCCCAACAGGTTTAGCGCCCCCGGCCCTGCCACTGGCGACAAGCTCGTACCCTTGGATTGTCTTGAAACGGTGTAGGACTCGCCTCACAGCCCTTGCTTTCACCGAAAACACTTACCAAGGGCAGCATGAAAAGCGCACCGATACATACTCATGTGTGGCTTCCCCATATCACGCCACGCTCAGACGTTCTATCTATCGCCTCACCTCTAAACCTATCTGAAAGCTCCAGACTTACACCATTCACTGTTGAAGTGCTAAGGTGCGGAGAGGACCACACGGGCCATATGTCCATATATTGTCAGTGGTGCTGTTTGAGGATTTCGAAATATAAAATTTTCGACCCCTACCCTATCCATAGGCCTAAGGCCACTCACGCGATGTACGGAGTAGTCGCTTGTAATGCATTGAGTAACGCGCCTCGGAAGATGACATCGAACGACCCTGTTGCAGGGCTTGTATATTAGTTTTTCATGACAGTCGTCCAGCAAGCAATCTAGCCTAAATTGACTACTACAACGTGACATCGACAGCGCAGCTTGCATTACGCTATTACCAAACAAAGCACGAGTACCTTGCGAGGGATAATGTAGCGACCAGGTAGGACAGCCGAAGGATAGTAGGAATCGTCAGGCCCTGAACTAGTGGCTACAACCTGCCCACCTACCGTCCTCTGGCTCTTCCAAGTATACCAGATACTGGTCCCGTCTATCCAAACAGGTGTAGATAGTGGCGTTCGCACCGAGCGGGGCTAGTTACAAACGATGTGCGTAAGCCTCTAATTTTGACTTACATTACACGGATTAGCATATGCGGTGCCACACAAGCTATCCCTACATGGCCGACTGCCAGGTGGCTCTAATGCATCAAGGTAGCCTTAAGCACTGGAAAATTGTCGCGGAGAGATTCCCTTTGTTTAAGTCCTCATCGAGATAAGAACGAGCTATGGTGGACCCGGACTTCGCGTTCTCTTCTGTCCGGGTATATGCATTGATTTGTGCACTGGACTAGCGTGGGCGTGTCTAGTGGTTTTGCGAATATGCGTAGCCCATGGTCAAGTAGACCAAGACATTTCAGAGAAGAATTGTATGGGTAAGTTTGGTAAATCGCTGGATTAAGGCCCCTAGTAAAGGATCTTCCAGCGGTAGGCTCGCCATATGGCTGTACCCTGCCAGACAGTTATACGCTAGACGATATGCTATCGGGGAGGACCTTGCGGCTATGACCAAGTGGGGTATACACTGGGCTGCTGCCTGTTTAGCATCGGTAGTCTGGCCGCGGAAACTTCACCGTTCCGGCGGTTACAGTGGACAACCTGCAAGCCTGGAATCTCTATCTCCTGAAGGAGATATCTCGAGCACCAGAGGAGCTTAACATTGTACATTCCGAAGTGAACAGCCGTACGAACTCCTCATGTGCGCTTCGTTTCATTGCCGATGGTGTTTCAAATTTTTCCAACTTGGATCTTTCAGGCGTTTGAGGTCGTTACTCTAGTGTCGCGACGAAGCAAACAAAAGTTATCAAGATGTATCGAGCCCTGTTGTCGGGCGTGTTGCGAATCTGTGCAGCTTCTACCGTACTAACAAGTTGGGTACGTGGGTGCAGTAGGCACCCATCGGCGGCGTTCGGGACATCTCCTGAGGCTCTGGTCAAGTGACCGTGGCCGCCACGAGGTGACGCCGAAGGAAAGAGTCTGGAAAAGGTAACTGTGGATGTGCACTTACATCCTGTATCCCCGTGAGCGCGATGGTATGGGCTCCATTAAATAGATATCTAAATGTATACGGGGCAGCAAAGTGCCTAAAATTACGTCAACTATCGATTTCCCCACGTGTTAACTCGCATCAGCCCCCCCTTTTTAGGGTAGTCTCGGGAGACAAGACGGCAAGACGCACCAAAATCGTATATACGCGCCACCATCATGTTCAGGCGGTATTTAACTCCGCACGTGCTCTTGTTTATCCCGGCAAATAGATGGCAGTACGCGAATCTACAACGACCCATTATGCCCATCATGCTAAAATTTCAATGATCAACTGGACTAGATTTACGAGCACTGGATCTCTTTGCCCGAATGTATTATCACAGTACACCCCACTTCGGTTCATCTTCATACCTATGAGCTGGATACACTCTCATGGGGCGATTCCATCCTAGTTTAGACTTTCACCCGAAGCTCATTGCTAATAAGCCATATCAACGCAGGTAAGCGCTACAATTAGGAGAGCCGCAGTTGTATCGGCGGCCAGGCCTTTCGAGTCTTCCGTTGAGTTGAACAACCGTCACGGTAAGCTCTGTTTCTTAAGATGTCTTGAAGAACTTGAGATCGGACAAAATTGCACCGTATACGGGATCCGGGAGGTGGTATATGTGCGATGTCACCTTGCTCGGTAGATCTGAGTGCCAAGATCCCTTGCGGTATCAGTTCGAAGTCAAAGATTAAACCTTAAGAAGACGCACAACCGGTCGGGTAGGACGACAGCTTTGATTTTTTGATCCCAATATGGAGCCGCAGTGCTCTATGTCGCTCGAATGAACCAGTATTTCGTGTACTTCGGATGCGTTGCCGCAAAATGAAACAATCGGTTGCGATATGTAAAAACTGCCAAGCTATGCGGTGTCTGGATGTAGTCCGGAAAAAACTAGTTGCCCCAACAACCTCCATTCCTTAGCGTGAGGTCCACCGGAAGTCCATGACTTCTTTGCGCGAGCCCTTACCAGCAGCGCTTTAAACGCTCGACCATTCCACAAAAGGGCAGGAAGTAATGGTAAATGCGCAGCAAGGCGACCCGATCCATAGTATTCCTTCGACCAGATGCGCCAAACATTTGGACTTCGTTACAACCAACCACTAGTCCGGAAGAACGGACATATGGAAAGCATGTTCCGGTACCGCAAGGTTTGATCCCTAATCTATTGCTTCGGTCTTCGAAGTAACCGTGACGAGCACGGGTAATTGCTCGTCGCGATCTTCCCTACTCACTGATACTTTAGAAAAACGCCCGGGGATTCGCAGGTGCGCTACATCCGCCTAGTTGTCCGTGTCCTCTCGTGTTTAAATCGCTGGATTAAGGCCGCCGTATGCACTAATGGGCAGACCTAAGTAACAGGCTCTCTTATGTATGGCACGAAGCTCGAGCTCAAACTTTCGGGCAACGGTTGGTATACCTTGACGTCCTGGTATCCAATGTACTTATGCCAGTGACACAGACATGCTGTAGCTGGGGAGGATGACATGTTGGACGGTTCAATCCCACACATGCCAAGTTCGCACATGCTTTATTTGGCTGTTGTAATCGATGGCAGTATCTGTTGCCGGCGCTTCTACGTCATTGAGTAGTCACATTTAACTCTGACTTACGCCCCATATAGCGTGGTAGGTATCCAGGTTTTCACTAGCACTCGGAAAGTATTGTCGCTCCTAGCCGTATGCTATTCCATTTTCGTGATGATTCGCCAGAATGATAGTAGCCCATGTCATGCTCGAACTTTTGTTGGGTCCCTATTTGACTATTTAAGCGCCCCCACCCTACGGGAACAGTAGCAACTCTAACTGGATTGCGGCGACGGAAGTTTCTGACGACTGGACACGTGGCTTCTTCCTACACAGCCTAAGACGGGAATTCACTAAGGAGGGTCGGCTCACCCACCCTGTTTCCAGGGGTTATACGTTTAACTACCTGTGCCAACGGTCTATTCGTGAGATAACTTTAAAGCGCTCAGTAGGTTAGATAACTTCTATGTAGAGCCCACGACTAGCAGGACGGATCGCATCGAACCTCGTGACCCGCCTGGGATCAGGAAATCCGCTCTATGTATACCTCAGGGTTCAAGTCGGATCCACAATAGCAGCAACCCCTCCGCATACCTGGAAACTAGAGTCCGTAGCGGCTGCGTCAGAGATTACGAGTCTGCAATCCGAACCACATAGGACAGCCCGCAGCTAAAGTCATGCGCACCCAGGACTTCTTGCGCATTAAAAGAGCACGTCTATATGACTCAGATTGTATAGGCTAGACCGATCACATAGACTCTAGTCAGTTAGCGACTCCGCGACATAGTTAATCAGGAATCCCGTAAGATGGCGCGGACCCCTATAGTCAGGCTAAACGGCGTGGATGGTTGTGTGGGACACATCCGCAGGCGCATGACTCAGGTGATCCGTGTCCCTTTCAATCAAGACATTGATTGTTCTATTCGGACATAGGAAGAGTCGAGTAAAGGCCTCATCAGCTTAGCTGTTCAGCATTGCAAGAGCTTAATGAAATTGTCCGGGTACCGTGGTTCAGGGGTGTTGATTGTGAATGATACGGGTCCGACTGTCTTCGTGATTGTCCGTACGAACTTTTCTCATTGTCAAGATTTAGTGCTGCTGATTCACGCCAGCATCCCCGTTGATCTCGTGGCTCACCCGACCGGACTCTTGGCAGGCGTTTTAGAATAGCTCTTGTAGAGGAACATCCGAGACAGTTTCAGAGACATAGAGATAACGCGATTGCCTGCCGATATATAGCGCCTCCCGTCATAAGCGAGATCGATGAGACGTAATAGTTGACGAGGATTAATGGGCATAATGTGGGCGATATAAAGATTCCCCCCCCGCACTGTTCTTGAAGGGACCATTCAAGATTCGTTTATCCTCGCGCATTTAATTGGAGACGCAGAAACTAATAGGCGCCGGCATCAGACGGAGGAGGGTACAATATTGTCTTCTAGACTGGAGCTCTTACTGGCCGTGATCGGGATGCTTTTCGACTTTGTCTGCGTTCATCGTTGACGTGCAGCCGCGATGGTATGGGCTCCATAGTAGTTATCGTGTTGACCCGCAATGGAGAGTCACTCGTCGACGATTCAACCCGGCCAGTTCACAGGATGCTCCCGTTTCTGACTGGACCCCAGATCTTTTCTCGAGGCCACCCACGCTAAAACGTAAAATTTTGCTAGAACCGAGGGCCCATAGTCGTCGAGCACAAATAAAAAAATTAATTGCGCACAGTAGCTTACTTGCCTCAGTTTTGTGTATCGGCCCCTGTACTCCTCCGACGACAATGACCCCCGTCTAGGCACCAATCGAACTGATTCGACTTGACAACTTGACACCGTTCTCTTCTCTAGAGAAAATTTAATTACTTTGACGTAGTATGGTACACGTTCTCGACTGTGAAACTCGAACTTTAAGATTTATAAACGTTAACGTATTTTATACATATTGCAACACCAGAGGACCGGACTTAGATAGCGGGTGGGATACTGCTCGATAGCGCAAACGATTTTTGGTGTAATGGCGCGTGCCCAGGTGCGCACGCGTTGTTAAAAGTAGAATCTCTTGTGATCACCAACCCGGCATCTGTTCTTTGGTTGGCCAGAACGGGATTGCTGCGGACCAGGAATGGACTACGGCGGGGTTATCCCGAGTGGCGCAGCTAACCCGAAATCGGCAAATATCACTTGCGCGACAGGGTTGTGCCAGGCACCAAGCTTTCACAATGATAGTGCGTCTACGACAACCTGGCACTATGGTCTCCGGAAACAGCTTTTGAGATAACATACCTGTAAACCGGGCGTAGTGCTTGCTAAGGCTGCACTCAGTTACGTCAACCGGTAATCTGATGGCGTGAAAATAGATCATAGTATCGCACCATAAAGGGGCGTTTATATGTATCGTTTCTCGACGCAGCCGCTGAAGAATCTCTACCGGCGACTATAGGCCGCAACAAAAGGTGACCGTCAACCATACTTCGCCAACACCACCCTGACCAATCTATGCTGTGCTAGATAAACGGAAGGTCGTACGCTGATTTGCTATGGTGAATTGAGAGAGTCTGTGCGGTATGTTAAATATTGCTATGTATCCTGAGAAGGCCGTTGAGTAAGCCGTTACTCGGGCGTGAAATGTGAATACACGAGCCAAAAGTTGATTCCTATTCAGGAGCAGACTTGATTAGATGCAACTCCGGTGGAGGAAAGTGAGTACATACCCTAGTTGAGCAACTAGTTCATGGCAGTACGCGTGTTGTACGATTTTTCTAGTCAAATACTTGCCATGGACCTAAATGTTGTTTCTATGAGACGTCGAAACTTCTACCATGAACTCTACTAGAGTTAACAGTAGTTCAAAAGCTACACTCTGAACGGTTAGGATGTTCTGGGGCGCATGTTTCCTATTGAGGCGGATCTCAGGGTAGCCGGCGCACCGATGCGCATCCTTGCGATTTTTGTCCATTTTTAAGCTGCCATGGCAGCGAGCGTTACAAACGCGTGATAGATATGTCTCATATGGCAAAGCATCGGTGCCAGATTGCTAGGCGTCCCAGTTTAAGAAGCGCTGTGTGGTATGCAGACGCAAGCGAATGTATCCTATTTCAGCTTCGAAGACCTAGGTCCTTCTACGCTGTTGTCCTATGCAGCGCAGCCGCTGATTGGTACGAGTGTCCGTTTACCTAGCTAAAGTTGTCCTCCGCTCCCTAGACTCGTATTTAGCAACCCAACTGCTTGAAGACACGTTTAAAGGTGTAGAATCCTAATTCACGCCGAATCGGCGATTATAGCCTATAAGTCTATAGATATCTTACTATAAGCCACGACGTCCCATGTTGGTAATGGTCGTCAATACTGGTGGGGTAAGACCCTCCATTCCAGGATATACATTACACGGATTAGCATTAGATGTAGTAAGGACTTTTTCGCTTCGGACTCAAAATGCTTCCTCGCTAGTCCCGACGCGCGGGCGGACCGGGACGACTAAGTGTACTACGACACCTATTTGAAACAGCTAACGAAGAGACCCGTATAGTTACTAAGAGAGCGAGTGAGATTTCTAACAAGGGTGCCGCAATGTAACATCCCCCGTGTTCCCACAGATGCTTCCGAAGTGCCTCCTTGCCTCTAAAGGCAGCTAAGCGTTCATCTGCGCGCCTCACTGCGAGGAAGTGGGGAGTAGGCTCTGGCGGCATTCCTTGGGAGGAATACAGGAAATAGCTTGACACCCAACGGCACGCGCCGTTCCATAAGAGCGCTTTCAGCTGAGTAGTCGCATTACCTTCCACTAGTTGCAACAAGTATTCGCGGACCGAGTTATGCCGGTTGCGCTTTCAGGCCCCGGGCCCTAGCCGGCATTAGACCCGCCTAACTACGCCATCTAGAGGCTTCACTTACTCAACCTGAAGACGATAAGACCCGACAGTCTTGCTAATGGGAGGATAAACTCGAGAAGCAGAATTGTCATCGGCATATTCAATTTGACCGATGCTCCTGCCCGGACTTTCCCATTGAAAGGGGAAGACTTGCACTGCGTAGTCAGGTTTTTGTTCCCCATCTTCCTCCAATACCCGGAGACTATAATTGAATACCAACGATCAGACCAGAGACCCATAAACCCTTCCAAAATATGTGACGAAGTTGTGTGACAAAAAGGTGTGGAAGACGAGTAATTCCTACTACGGGTTTACTGCTGGCAAGGTATGGGCGCAAATACTCGGCCAGTTGGTCGCGTCTCACGTCGAGCCTATAAGTCTATAGATAACTGCATATTTGCCGTTTTAGTTAGAAGCTATTGCTCGTGTTCTAATGCAGCCACGTCTGTTTGTGAACTGAGCGATACGTCGAAACAGCCCCAGCGTATCCACTGATGCGAACCTAGGCCGAGTCGCGAGAAAGGAACCGATCATCTGGACAAGCAGTGTTGACTTACATGATAAAGTGCGGCGCTCCGTCACAGTTCGGCGCGTGATTGTAGACCTGTATCACGCCTGTTCACGGGTATCACGACCAAACTCCGCAATACGGTCACAGTATGAGGGAGGCGGTGACGGCGCACGGCTCATGCTCTAGTAATTATGTTTCAAATAATGAGTTGTTCAATCTTTTGATACGGTTTATAGCAGGTAGGCGGTACTTCGAACCAGAAGCTGTACTCCTGTCCGACCCCTGCCCAGTTTCTGCTTACAGTTGGGAGAACCCTTAGCCAAATGTGTATCAGGGACGGTCCGTATGATCTGTACATTGTAAAGGCTCAGTCGGCGCCTAGTTCACGTTTCCCCATGAGGCTAATATGCCGTTACGAAGTTGCTTATTGACTGGTATTCCTAGAAGGCCGGGACAGCAATGCTACGTTCTCTCATGGCAACTACCGCAACGTTCAGAACGACCACGATACCTTCGCATAACCACCCTCTTGGTTAGGACTGGCCGCCCCCCTGTTGTAGAACCTGGCCCTAATCATAAAGGGTAGGAGCTTGATAAACTCACAGTAACGAGTACACCACTGCACGTCTTACTCCGCCTCTCATTGCACGAAGATTGGGCTTCACGCGTCGAACTCGGCGCAATCTTATAGCCGCAGAAGGAGAAATCCGTTGGGAGCTACGGAAGGCGAGTCCGCGCAAATTACGCTCGGCTAGTGGGGAATAATTCACGAACTAGTATTATATTCACGACATATATCGTCGATGAGCATTTTGATTTGCCGCAGGGTAAGGGTTGACAATAGCGGTCCCGCCCCGCACTAAGATAAGCCCGTCATCTTATTGCCGAGCTCAAGGTTCGGCTCGCAACTCAGGTATCTTTTGGTCACCGGTTACGTATATTTGAAAATTAGCACACATGTATAAAACTCATAAAGTAACTACAGTTCAGCCTTATTACATGGTGCCCACCTGGCCACTTGATTTGCCGGCCCCCCAGGATAGGCGCAACCGTCAATACCCGCCACAATCTACTGTAGTGCGTCGAACTAAGCCGTGTGCACAGTACGCCATCGGTTACTCGCACCCTCCATGTAGGGGACCGGGCTCACTGTCTTTGCGTGGGATCGTGTCGCCCATTCCGCCGGGGTTAAGTCTCCGACTTGTAATCGTGGCCAGGGTCGTCTGCGATACCATTAACGAAGGAGGGAGCGTAACCGAAAATCCTGGAATGCGGAATCGTCCACGCGCTACAATAAGACGGCATGTGCTTATACGAGACGGGGCCTTTCTTCATAGAGGCCCGGGACAGTTCTTAGGTGCCATATTATTACATCTGGCCGATAGCGTGACGAGGAGATCAGTACAGGCTCGACGTGAGGCTACACTGGGCTGGGGACTGCTCAACGAGAAGGAAAGTGATAGTAGACCTGGGAGTTTTGCGCACGCGTTGTTAAAAGTAGTCCCTCCAATACGGTCACAGTATGAGCTACTGATCAGTAGAAGCTAATACCGACCTGCGATCTAGGAGAGATCAGTAGTTTTCCCGGGTTCACGGGGGGCACTGATGATCCCGCCTTATGTGACCTGACACTTGAGACGGCTACCTCAGGTGTCTTCAAAACGGCAGTACACCTGGTAGTGAACCAGTAGCGCGTCCGAGCGGGGCTCCACACAACTAAGCCGTTACTCGGGCGTGATGAGGTCCGGTTGGGAGGGTTTAAGTCTTTGTTAAAGAGTCCGACGTACACTTCATGACCATTCGAAGGATGCCGTTCTGTACCATGGTATACCGCTCAGAGTCTGTATGAAGTAATTGCATTGGTACTCGAACACCCACGGGCGGCACTTTTATTCCGGCGCCAGTCATTGCAATTTTCTCGTGTTTAGTGCGCTTGCTTGGCGCCTCCGCAAAAGTTAACATACATCCTGCCTAGGATGCTACTGAATACCGCGCGCATACTCATCGGCCAACACCATCTATAGCAGGACTGCCGAAAGGCCTGGCGGACTTCTCCTCCTTATCACCGGATACCAATCGTATGCGGAAAGGCGTAGGCGGCTTCGAGTATTAATGCTATCCTAATGAGCCAGGCCACGTCGACGAACACTAGCGAGCCCACAAGCTATCTGTTCGTGTTCTATATTCTCATATCAAAAGTCATCCGTGCGGCGTGAGTGACTTCGGCCCGAACTAGCCCTTCAGTCGGCAACGATTATTTTAATATTTTTTGTACTACGTCTCCGCACCACTTACGTCTTGACGTTGTAAGGGAGCCTATAAGTCTATAGATACATAGAGCACTACAGGTAAAGCCTAATAGCTCCTGCGTCCGCACGTAGCGGCACACGGCTCCTAGAGATGTCGCGGTAAGGCAGTCAGTTCTTTCCCAAAGGGGCTAGCACCGATACAAACTGAATTTCCCCACCATGGTAGAATGGTCGTTAAAGATCGGTCTATGCTAGTAGTGGATTTAAAAGCACCCAGTCGAGCACAACCCGCTTAAAGCACCGCGCGGGCGCAGAAAACTTGGAGGCTGGTCTAGACATTGATTGTTCTATTCACTCCGGTTCTTCCCAGACTGCTCGAGCGCCCGCAGATTGTGAGCCGTCTCATCTGCACGTAAAGTGGGATGCCGTCCCAGACGGTTCTATGCTGACGTTAGTTGATCCTATCAGCTAGGATACGATTGCGCGATTTAGAAAGTCAGCCCTGGTTCTAGAACATAACGCCGCATGCATACCAGTTGTATCGCTCCGCACACGGTTAATATTTCTATATAACGGACCACTATTTCCTTTATGAAACAGCGTACCCGTTTATGATACAATCGATTACGTTAATAACGCTTGAGGAGGGCCGTGAATATATTCATGCGGTGTACTTTTAAATTGCGATCCATCGCAGTGTGGCGATGGCGCTCCCCCGGTTATGCCGCGGTCTCTGGAGCTCAGTTAGCGAAAGGAGTCGTAAGACATACGACTCTGCAAAGATAGATCGCTACTATACATCGGACCTCACAATTGCGTATGCACGGATGATGCATCCGGTATATCGCGGGACACATAGCCTCGTGCTGGAGAAACGTCGATACTAAGTATGTGTATAGACCAAGTATGGATTGTATAGAAAAGAAGCCGATATATAGCTGGACCCTTCACGACGAGGCTTGGCTGCACGGCACGTAATAGCACTGCGTGAGAAGTCAATGCTGGCACTCACGGGGGTCGTGGCGTCCAGCTATCCTTGTCAGCTCAAATGGAGTCTTACTAACGACCTCGCCGACCTTAAGCCGTTACTCGGGCGTGGGCCCAGAAACCCGCTAAATACTCAGACGACTAAGTGTACTACGACCCATCAAGAGAGTACGAGGATTCGCATGTTCACGCCTCTTATGTATGGCACGAAGGTACCATGTGAACCCTTTGTCTTCACAAGCAGAATTATCCCTTGCGCTCTATGATAATTACCTAGCGCAAGACTAACCGATAGCCCGACTGTCGGTTCAATCGGGGTTGTTAAACGAGTTCAGCGGGGTGGGCGCCTAAACTCGGAGGCGACTGTGTTTGCCGATATTAGTGGCCATCGCATAAGATATCGCTTGCCCAAGCAAGCCTTCAATGCTGTCTGGGTAACCTGTTACTTCTCCTAAGAAGCTGGTATATCGCGATTTGAGATACAAACGGAGCTTGTCACCCGCCTTGTGGCACTCACATGCCAAGACGAACAAATATGTTGAGATCACCGCTGGATTGGTTGCTCCGTGGGCCTGGTTCGTCTAGGCTGTACTAAGCAATGCATGATGTTGTGATTCTTTCGCTAGCGGAAGTGTGCGCCTTTGATCTAGTAAACGCACTAAGGGTCGGTAAATCGGTTTTATCCTCGGGGGCAGTCACTCTTGCACAATTTGGTGAACGAAGAATTCCCTTTGAAATGGAGTGGTCAGTCAGTTACCGACTTCGCAGAGAGGAACTGCGTGTCTCCCCATTGGCTGCATTTCCTGGCAACGTCTATATGACTCAGATTGCGGTAAAACTTAATCAACGTCATGGACTCTGGCGACGGGGTGATTTGCTGGTAAATACGGGGGGTACGGTTAGAGAGTCATCTCAGTGCGTGAATACGCATCCGACCAGTACGATATTATTGATGCCACGGAGTCTCATGTGGATATTGCCTAACGTGCGCACGCGTTGTTAAAAGCGACTTGCCAAAGGCGTGAACCATAAGACCTGGGCGACTATGCACACCCGTCGTCTGGGCGCAATGAATTCTATTTGCGGCCCCTCAGGCTATGACGAGTGTGGAGTAGTTATCGTGTTGACCCAGACCCACACCATCCCGTATCACTGCGCACGGTAACCACTCTAAAAAATGAGCCCCTTGTGCTCCGAAGGATCTAGGTCCATTGGCCTCTGGTCTGTAAAGAGGTGGCAGTCGAAGCAGGTTCCTGAGGTGATTTTCTTACGACAAAAGGCCCCAACGTATGCTTAATCCGCCTATTTCTACTGCGGGTGAAGGAGCCTCTATAACATATAAAAAACACGTCCTAGTAAATTGAATAAGTGGCGCTAAATTATTAAGACGACACCTAAGTCAGAAACTAGTGCCATTCCGCTAGTTGGCTAAGTCAGGCAGCCGTCTTGATCGGGTCACGTCGTGGATGAATTAATTCGGGATGACAAGTCAAAGATTAAACCTTAGGCTTGCTATGTCAGAGTCATAAAACCCACATCTTGATGCATTTCACTCGTCAACATTCTAACAGGGGTTTACCAGGAATGTTCAAGAATAGGCTTCTTGAAGGGTTTTTTTCCGTTGTCGAGCATTCATATGAGTTGTGTCAACTCAGCCTTTGGAGGAAGACAAATCCGGCTTGCCAACTGATGCACTGTTCGGCGCGCGTGTGGCAAGCTCGTCCTCTTCTCCCTCTGTGCCTTAATGAATGCAGTCTATTGCGGGTTCATGCGTAAGAGAAGGTTGTGGTTAAACTCCACAGTCAGATAGGTTATTCCACGAGACTCTAAACCCGAGCCTCATTCACCACGTTTTTTTCGAATACCCTCTTAGAGTACAAGTCTTCGCATTGATTCTTCTGAAATATCCTCGACGCATCACCATCTCTATTACAGCGCTCCCTCGTATCTTTAAGGTACATTTTAGATTACTGTGCCACTACCCGGGAGAAATGCATATGATACCTCGATCAGGGTATTATGGGGGCCATTGCAGCGCACATGAATATACGGTTGTAAGCGGGGTTTCGGTTACTTGCTCCGTTTACACATGTCAGTGTCGCGAAACTTAGCTTCCACCACTATGTTCCGTGGGATACGTTCGGTTCAGCGCAGTCAGGCGGAGTCTCTCAAGTCCCCTCATAACTCTGTGTGCCGATCAACAACGTTGTAATCATCTGGCATGTACGTAGTATCAATGTAACGCAATTTGGATCCCAGGAGTCCAACCCGTCAGTTGAGGAAGTGTGTATTACGTGCGACGAAACATTAGACGTTTAGGTGGTGTTGGCGTTCGCTAACACCAACGGGTCGCCCACACTAGTTATTACTACGTCAGCTCTGTACAACAATACGGGTTTACACAGACTAGTTGACGATTCCATCTTCATCCGGTGCGACGGTGTACTTACTTAAATTTCGGTCATTTATACTATTTCCTTGTTGTATTGGGTATTTGACCGGGTAGACGAGCCGTCGCATGGTCAACGACTTCAAGTGTCCCGTCACACGGAACTTCTCCTACGCGTTCCCTCCCTCGAGTGGTAATAATTGGCTCCGGGGTATCCCTCTTCCTTCAGCTCTAAACCCGAGCCTCATTATGTATAACTGGGAATTGCTTCGATATCCCCTTAAGGATAAGCCCCTGACTCAGTCAATCACAACAGCGTCAGGGTTCCGTTCATAGGCAACGGACTTATGAGCTAAGCCCTTCTAGAAAGTCTCTTACTTGCGCGACAACAGGACGAAAGCTACATGAGAAGCGATTGTCCGCTCGTAAACCGCCGACTTTCCTAGCTCAGCCTACGGAGATGCGGTTGATCGGTTCATGATTCCTTTTGTGAGGAATCTTTTCCAACAGAACCCCACTCCCGCAGATGATACTAAATACATCGATACATATTTAGCATGGGGCTCGCCGGTGCCAAGAGTTAGCTGATTATACACACATGACCACCTGACCGAGACACGTGCTTCTGCGAATATCATTGCGGTAAGGAGTCATTATTTACGCGATTCCTGCACTCCCGTAGACGATGCTCATGTTCAGAAGGGAGAACAGTTTACACTAGGAGAGTTACTAGCCAGAATCCGGACGGGGCCTGCAACGATAGTGTGTAATAGGTAGAGATTGAAGCGCGACAACCGAGATCTGGTATCATAGCGTTACCCAACCGTTATTGAAGGTCATGCAAGCGGTTCGTAGTCCTCGTGTTTCGGGCGGCCGGAGTATATTTCAATAGTGGATATTGAGGTAAACGGTATAACGTGGTGACCAAAAGTGTAACTGCGTGGCTACGGGATGGCCAAAAGCGCCAGCTCATATCCCCAATCTTAATATGTAAACACTCCCTTGTCAGAACGGGGACATTATTTACCGGTGAGATTGCCATTTTAGGTTCGTCGACCCTAAAATAGGAGGATCCACGACGCGAACGTAAAGGAAAGTGGGATGCTACTCCATTACTATTGAGACTCGAAGGCAACCCGGTATGGTGTAAAGCCGGCGCGTGCATTGTCCTGGCAGGGGGGAGA\"\n",
    "seq2 = \"AAAGACTCAGGATGGGTCAACACGATAACTACTGACATGTATCAGGGGAAATAGGTGTCTGTATCTTCGACTCCCAGGACCGTTACGTATTCCCATGGAATCGCCCAATCTGAGTCATATAGACGCGTGCGCACGCGTTGTTAAAAGCACCCGCATGGATTCCAGCCACCACGGAGGGTGCATCTTACGGTTAAAGGCTCTTCGTAGACTCGATTCTTATAGTCTGCCATACATAAGAGCCACGCGTTGGCTGTGTCGAAGCGGACTATAAGAATCGAGTCTATCCGAGTAAGCACCGTCCCTTCTGGCGCCATGGCGGCCGTCCTCGTATCAACTATTTGAATGGCCTTAATCCAGCGCGGTTAGGATGTTCTGGGGCATTTAGGCTAGGACCTTCCGGTACTGCTTATGGCAAAGCCCTAGTCTCACGACTTTATTCTGGTAGTTACCCTATCATTTTAGCAGCCTATAAGTCTATAGATACTATCTCTAAACCCGAGCCTCATCAATACGGTCACAGTATGAGTGAAGGTCGACGAGAACACAGCTTTTAACAACTAAATCGCTGGATTAAGGCCGCGCCCCGTATAATGGAGCTTCGTGCCATACATAAGAGCCCATACCATCGCGCATTTAGATAGTGCGCAGGTGCGGGAATCGTATGCGGAAAGGCGTACTGAAGGAAGGGAGCAAGTGCGAAATCGATTAAGCATAATTGTTTGCACAAGGTATGGGGCGTAAGTCAGAGTTCTTTATGCCCTAGGTCTGCGGTACAGATCACTGAGACGAATGCACCGCAGTAGCTTTTATTTCTGACTTATGTACCTAGATTACCCTGAGGCCGGGTACCTCTCACTTACTTCTCTGTCTCATCAGCCCCGGAGTAAAGGCACAGAGGGAGAAGAGTCTAAATGTGACTATAAGAATCGAGTCTAATACGGGGCGGCATGAGCTGAGACATTGATTGTTCTATTCATCGCGACCAACGAGGCTCGATGCCAAAGCTAAGGGCATTACTGGTGAACTATTTTTAAGCCGATCCGTGCGGCGTGAGTGACTTACTCGGGCGTGCGGTTAGGACTTGTAATCGTGGCCAGGTCTTAAGGTTCGGCTCGCAACTCAGCGACCCACAGTGGATGGTATACCTAGGCATTCTTTACTGGTCTCCGTCTCGGGCGTGTATGGGAGTTGCCGAAGGACCATTTTCGTGGATACGTGTGGATGCCCCAGAACATCCTAACCGGCACCCGCATGGATTCCAGCTTCCTAGTTTATTCTGGTAGTTACCCTCACCGTCAGACATTGATTGTTCTATTCACTCACGCCGCACGGATGGGTATGGACCTGGCCACGATTACATCACGCTAAGGAATGGAGGTAGTCGTTGGCCAGAAACGAGGAACGGAGTTAGAGAGCCCCGTCCCCACCGACAATTTCGTCTAAGGGCAACGCACTAAGGGTCGGTAATCGCGTCTATATGACTCAGATTGCATCGCCTCCCCTGCGTGGGTTAATGCAACTAGACACAACCCTTTTAGCGGGACGTACGGCAATCGATTCAGCTGCTAAAGAATAGAACAATCAATGTCTCTGATTGAAGTCAACGAGCACTATGAAAAATCTGTTAGGTCCGTCGCAATCCAGACAGCTCTAGTCACCTCCATTCCTTAGATGCTAATCCGTGTAATGTACGTGAATTATGTATGGGAAGCCGTGCATTTGGCGTCAGGGTGTGGCTGCTGTCTGCTGTGCGTCTTCTCGAACTGAAGTTCCAAAGAAACCTTCTAACGGACTACTCCCCCTCCGGCAATAGCTTCGAGATTTAGTATCATCGATTTACGGACAGCACAGTAGTTATCGTGTTGACCCTGATAAGGTTTAATCTTTGACTTTCGACCTAGCATCTTTAGCCTTATGACGTAAGAGCGGGCTACACATCTCAGAAACGGGCTGTTACCGACCCTTAGTGCGTTAGGACCGCAGAGGTCATAAAGCCTATCAGGGACTTTCGTTTTGACATAACAAGTAGTGCGCAGTGATACGGGATGCGAGTAATTCCTACTACGGAGAGCCTATAAGTCTATAGACATCCCGTATCACTGCGCACTACCACAGGGACGCCTAAGGTTTAATCTTTGACTTCTAGCGCAAGACTAACCGAGCACTGTTAGTCTGGTTATATGAGAATATAGAACACCTTCGTGCCATACATAAGAGGAAATTTTCGACCCCATGCTAATCCGTGTAATGTATACCCTAGACTTGCGAATTTAGACAACTGTCGGGTGGCCGGTGGTAAAAGTCTGGAGCTTTCAGATAGGTTTAATCTTTGACTTCGCTGTGAGGCATTCCATCGTAGCCCCAGAACATCCTAACCGGTACACTTAGTCGTATGGAGCCCATACCATCGCGCTTATAGCTAACACAGAGACTTGGCGATAAGTTGACACCTCTACTACGAAAAACCTAATGAGGCTCGGGTTTAGAGAGCCAATGTCAGTGTCGCGAGTCAATACGGTCACAGTATGAGGGGGAAACGGAAACCCAGATGTTTGGAGCATTCGCCACACTCGAAGTGTAATGGGGCGTAAGTCAGAGTTTGTCTGCCTGAGTGTATAGCCTATAAGTCTATAGACTCATACTGTGACCGTATTGTATTTTGTCCATCGGCCTGAAAGTTCATCCGTGCGGCGTGAGTGACGTACGGACAATCACGCTTAAGTCAGTTCGAGGACCCTAACAAAGCTTATGGGGCGTAAGTCAGAGTTTCATCTTGAAAGGACCGGGGTAATTTCAGCCGGCATTGCTGTTGGAGGCCGACCTTGGTTTAAGCTGATGGTTACAGACGATCGCACATCAAGGTGAGTTGTGTGTTTATTATTGCATTTTAGTGAGGCGCGCAGATGAACAGTCAGGGCGTCTGACTCATTGTAATCCGTCCAGGGGGGTGAAGGGCACCCGCATGGATTCCAGCGGACTGATTGTCCGTACGAACTTTTTTACCGAGTAGCGTGAATAACCCCACCCGAATACAATGAGGCTCGGGTTTAGAGTGAGCGCGCTCATGATGCAAGACGAAAACGCCGGCATTTGTTGGTCTGTAGACACATGTATGGTCCCGTCCTCCTTATGATTGTATTCCCGTTGTAAACCAGAGAGCCATCGTATGCGGAAAGGCGTAACCCAAAGTTGCGCACGCGTTGTTAAAAGTAAGCAGGAACCCAGGGCTGAAGGTCAGACTCGGTATAGATTTCCAGGGGTCGAAGTTGATCGTATGCGGAAAGGCGTACCCGGTCGTAGTACACTTAGTCGTCCTTCGCATAAGTAAATTACGTTGACTTAAGCCGTTACTCGGGCGTGTTCTGTTGTCTGCCGGACACGCCCGAGTAACGGCTTAAAGTTCGTACGGACAATCACCGCTGCCCGGGTTCCCACCAATATCAGAAGTGGTGCAAGAGATAATGGTGGCGGGCTTTTTCGTCTCAACCCGATCGACGTTTTCGTGTGGACATGCATAAGTTGGATGGCTGGCCCGACCACGTTGTCTAACAACACAATCGTATCCTGTTAAGCTAGTTGTGACGTCACGTGCTTAAAAGTAACCAGTATCAAATAGTTAATAGACTGGAAGTGGTCGTTTCCAGCGGGCTAGACTCGCCG\"\n",
    "result = SharedKmers(k, seq1, seq2)"
   ]
  },
  {
   "cell_type": "markdown",
   "id": "68220951",
   "metadata": {},
   "source": [
    "## ChromosomeToCycle"
   ]
  },
  {
   "cell_type": "markdown",
   "id": "0f3c4db1",
   "metadata": {},
   "source": [
    "**Input:** A chromosome Chromosome containing n synteny blocks.\n",
    "\n",
    "**Output:** The sequence Nodes of integers between 1 and 2n resulting from applying ChromosomeToCycle to Chromosome."
   ]
  },
  {
   "cell_type": "code",
   "execution_count": 6,
   "id": "e28c3650",
   "metadata": {},
   "outputs": [],
   "source": [
    "from biofunctions.alignment.get_cycle import get_cycle"
   ]
  },
  {
   "cell_type": "code",
   "execution_count": 12,
   "id": "dc7adf2c",
   "metadata": {},
   "outputs": [],
   "source": [
    "l=[+1,-2,-3,+4]"
   ]
  },
  {
   "cell_type": "code",
   "execution_count": 13,
   "id": "9a62083e",
   "metadata": {},
   "outputs": [
    {
     "data": {
      "text/plain": [
       "[1, 2, 4, 3, 6, 5, 7, 8]"
      ]
     },
     "execution_count": 13,
     "metadata": {},
     "output_type": "execute_result"
    }
   ],
   "source": [
    "get_cycle(l)"
   ]
  },
  {
   "cell_type": "markdown",
   "id": "f4c38a37",
   "metadata": {},
   "source": [
    "## CycleToChromosome\n",
    "\n",
    "**Input:** A sequence Nodes of integers between 1 and 2n.\n",
    "\n",
    "**Output:** The chromosome Chromosome containing n synteny blocks resulting from applying CycleToChromosome to Nodes."
   ]
  },
  {
   "cell_type": "code",
   "execution_count": 14,
   "id": "48ae0e45",
   "metadata": {},
   "outputs": [
    {
     "name": "stdout",
     "output_type": "stream",
     "text": [
      "(+1 -2 -3 +4)\n"
     ]
    }
   ],
   "source": [
    "from biofunctions.alignment.get_chromosome import get_chromosome\n",
    "Nodes=\"(1 2 4 3 6 5 7 8)\"\n",
    "result = get_chromosome(Nodes)\n",
    "result"
   ]
  },
  {
   "cell_type": "markdown",
   "id": "03e0e9e7",
   "metadata": {},
   "source": [
    "## GraphToGenome\n",
    "\n",
    "**Input:** The colored edges ColoredEdges of a genome graph.\n",
    "\n",
    "**Output:** The genome P corresponding to the genome graph."
   ]
  },
  {
   "cell_type": "code",
   "execution_count": 1,
   "id": "f4c20473",
   "metadata": {
    "scrolled": true
   },
   "outputs": [
    {
     "name": "stdout",
     "output_type": "stream",
     "text": [
      "(+1 -2 -3)(-4 +5 -6)\n"
     ]
    }
   ],
   "source": [
    "from biofunctions.alignment.GraphToGenome import GraphToGenome\n",
    "inp=\"(2, 4), (3, 6), (5, 1), (7, 9), (10, 12), (11, 8)\"\n",
    "result = GraphToGenome(inp)"
   ]
  }
 ],
 "metadata": {
  "kernelspec": {
   "display_name": "Python 3 (ipykernel)",
   "language": "python",
   "name": "python3"
  },
  "language_info": {
   "codemirror_mode": {
    "name": "ipython",
    "version": 3
   },
   "file_extension": ".py",
   "mimetype": "text/x-python",
   "name": "python",
   "nbconvert_exporter": "python",
   "pygments_lexer": "ipython3",
   "version": "3.8.8"
  }
 },
 "nbformat": 4,
 "nbformat_minor": 5
}
